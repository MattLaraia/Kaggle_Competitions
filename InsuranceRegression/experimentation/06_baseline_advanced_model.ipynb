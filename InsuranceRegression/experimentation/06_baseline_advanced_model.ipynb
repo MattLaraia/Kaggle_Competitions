{
 "cells": [
  {
   "cell_type": "markdown",
   "metadata": {},
   "source": [
    "# Random forest baseline\n",
    "\n",
    "Now that we have identified basic things about what works best for the dataset listed below, we will now train a single random forest on 1/10th of the stratified dataset to compare performance\n",
    "\n",
    "### Key findings so far:\n",
    "\n",
    "- **imputation**: clipping and filling nulls with mean  \n",
    "- **encoding**: one-hot encoding\n",
    "- **validation scores**: more reliable after performing stratified split\n",
    "- **baseline**: logistic regression is best baseline model\n",
    "- **heuristic baseline**: median value is **BEST SCORE SO FAR! -- 1.10815** \n",
    "\n",
    "### results\n",
    "10% of dataset : 1.15910 (4.5 mins train+validation results)\n",
    "\n",
    "25% of dataset:  1.15752 (9.5 mins train+validation results)\n",
    "\n",
    "full dataset: 1.15518 (44 mins train + val results)"
   ]
  },
  {
   "cell_type": "code",
   "execution_count": 7,
   "metadata": {},
   "outputs": [],
   "source": [
    "train_dataset = pd.read_csv(\"../data/03_imputation_clipped_mean.csv\")"
   ]
  },
  {
   "cell_type": "code",
   "execution_count": 8,
   "metadata": {},
   "outputs": [],
   "source": [
    "from sklearn.model_selection import train_test_split\n",
    "from sklearn.metrics import mean_squared_error, mean_absolute_error, r2_score\n",
    "from sklearn.ensemble import RandomForestRegressor\n",
    "\n",
    "\n",
    "\n",
    "# Explicitly define the target column\n",
    "target_column = 'Premium Amount'\n",
    "\n",
    "test_data = pd.read_csv(\"../data/raw_dataset/test.csv\")"
   ]
  },
  {
   "cell_type": "markdown",
   "metadata": {},
   "source": [
    "## 25% training data"
   ]
  },
  {
   "cell_type": "code",
   "execution_count": 3,
   "metadata": {},
   "outputs": [
    {
     "name": "stdout",
     "output_type": "stream",
     "text": [
      "begin Random Forest training\n",
      "training complete!\n",
      "predictions complete!\n",
      "Random Forest training complete\n"
     ]
    },
    {
     "data": {
      "text/html": [
       "<div>\n",
       "<style scoped>\n",
       "    .dataframe tbody tr th:only-of-type {\n",
       "        vertical-align: middle;\n",
       "    }\n",
       "\n",
       "    .dataframe tbody tr th {\n",
       "        vertical-align: top;\n",
       "    }\n",
       "\n",
       "    .dataframe thead th {\n",
       "        text-align: right;\n",
       "    }\n",
       "</style>\n",
       "<table border=\"1\" class=\"dataframe\">\n",
       "  <thead>\n",
       "    <tr style=\"text-align: right;\">\n",
       "      <th></th>\n",
       "      <th>Model</th>\n",
       "      <th>MSE</th>\n",
       "      <th>MAE</th>\n",
       "      <th>R^2</th>\n",
       "    </tr>\n",
       "  </thead>\n",
       "  <tbody>\n",
       "    <tr>\n",
       "      <th>0</th>\n",
       "      <td>Random Forest</td>\n",
       "      <td>731608.176086</td>\n",
       "      <td>657.973315</td>\n",
       "      <td>0.021928</td>\n",
       "    </tr>\n",
       "  </tbody>\n",
       "</table>\n",
       "</div>"
      ],
      "text/plain": [
       "           Model            MSE         MAE       R^2\n",
       "0  Random Forest  731608.176086  657.973315  0.021928"
      ]
     },
     "execution_count": 3,
     "metadata": {},
     "output_type": "execute_result"
    }
   ],
   "source": [
    "# Separate features (X) and target (y)\n",
    "X = train_dataset.drop(columns=[target_column])\n",
    "y = train_dataset[target_column]\n",
    "\n",
    "# Bin the target variable\n",
    "n_bins = 20\n",
    "bin_col = \"y_bin\"\n",
    "y_binned = pd.qcut(y, q=n_bins, duplicates='drop', labels=False)\n",
    "X[bin_col] = y_binned\n",
    "\n",
    "# Train-test split\n",
    "X_train, X_test, y_train, y_test = train_test_split(X, y, train_size=0.25, random_state=42, stratify= X[\"y_bin\"])\n",
    "\n",
    "#remove the stratification column\n",
    "X_test = X_test.drop(columns=[bin_col])\n",
    "X_train = X_train.drop(columns=[bin_col])\n",
    "\n",
    "# Define advanced baseline stratified_models\n",
    "stratified_models = {\n",
    "    \"Random Forest\": RandomForestRegressor(random_state=42)\n",
    "}\n",
    "\n",
    "# Train and evaluate each model\n",
    "stratified_results = []\n",
    "\n",
    "for name, model in stratified_models.items():\n",
    "    print(f\"begin {name} training\")\n",
    "    # Train the model\n",
    "    model.fit(X_train, y_train)\n",
    "    print(\"training complete!\")\n",
    "    # Make predictions\n",
    "    y_pred = model.predict(X_test)\n",
    "    print(\"predictions complete!\")\n",
    "    \n",
    "    # Evaluate performance\n",
    "    mse = mean_squared_error(y_test, y_pred)\n",
    "    mae = mean_absolute_error(y_test, y_pred)\n",
    "    r2 = r2_score(y_test, y_pred)\n",
    "    \n",
    "    # Store stratified_results\n",
    "    stratified_results.append({\n",
    "        \"Model\": name,\n",
    "        \"MSE\": mse,\n",
    "        \"MAE\": mae,\n",
    "        \"R^2\": r2\n",
    "    })\n",
    "    print(f\"{name} training complete\")\n",
    "\n",
    "\n",
    "# Display stratified_results\n",
    "stratified_results_df = pd.DataFrame(stratified_results).sort_values(by=\"R^2\", ascending=False)\n",
    "stratified_results_df"
   ]
  },
  {
   "cell_type": "code",
   "execution_count": 4,
   "metadata": {},
   "outputs": [],
   "source": [
    "mean_test = test_data.copy()\n",
    "\n",
    "\n",
    "#minimally process the test dataset to get model predictions\n",
    "\n",
    "#convert the policy start time to duration in mins\n",
    "mean_test['Policy Start Date'] = pd.to_datetime(mean_test['Policy Start Date'])\n",
    "mean_test['Policy Duration Mins'] = ((pd.Timestamp.now() - mean_test['Policy Start Date']).dt.total_seconds())/60\n",
    "mean_test = mean_test.drop(columns=['Policy Start Date'])\n",
    "\n",
    "#do label encoding\n",
    "categorical_cols = [mean_test.columns[i] for i, x in enumerate(mean_test.dtypes) if x == 'object']\n",
    "mean_test[categorical_cols] = mean_test[categorical_cols].astype('category')\n",
    "# Convert categorical to one hot encodings\n",
    "mean_test = pd.get_dummies(mean_test, drop_first=True)\n",
    "#fill nulls with mean values\n",
    "mean_test = mean_test.fillna(X.mean())\n",
    "\n",
    "\n",
    "mean_features = mean_test.iloc[:,1:]\n",
    "\n"
   ]
  },
  {
   "cell_type": "code",
   "execution_count": 5,
   "metadata": {},
   "outputs": [],
   "source": [
    "#generate results and submit to competition\n",
    "results_directory = \"../results\"\n",
    "\n",
    "for name, model in stratified_models.items():\n",
    "    \n",
    "    y_pred = model.predict(mean_features)\n",
    "\n",
    "    results = pd.DataFrame({\n",
    "        'id': mean_test['id'],  \n",
    "        'Premium Amount': y_pred   \n",
    "    })\n",
    "\n",
    "    filename = f\"{name}_advanced_baseline_25_percent_train.csv\"\n",
    "    results_full_path = os.path.join(results_directory,filename)\n",
    "    \n",
    "    results.to_csv(results_full_path, index=False)\n",
    "\n",
    "    submission_comment = f\"Advanced baseline model {name} using 25% of clipped mean dataset\"\n",
    "    submit(filename,submission_comment) "
   ]
  },
  {
   "cell_type": "markdown",
   "metadata": {},
   "source": [
    "## full train and submission"
   ]
  },
  {
   "cell_type": "code",
   "execution_count": 9,
   "metadata": {},
   "outputs": [
    {
     "name": "stdout",
     "output_type": "stream",
     "text": [
      "begin Random Forest training\n"
     ]
    }
   ],
   "source": [
    "# Separate features (X) and target (y)\n",
    "X = train_dataset.drop(columns=[target_column])\n",
    "y = train_dataset[target_column]\n",
    "\n",
    "# Define baseline full_models\n",
    "full_models = {\n",
    "    \"Random Forest\": RandomForestRegressor(),\n",
    "}\n",
    "\n",
    "# Train and evaluate each model\n",
    "full_results = []\n",
    "\n",
    "for name, model in full_models.items():\n",
    "    print(f\"begin {name} training\")\n",
    "    # Train the model\n",
    "    model.fit(X, y)\n"
   ]
  },
  {
   "cell_type": "code",
   "execution_count": 10,
   "metadata": {},
   "outputs": [],
   "source": [
    "mean_test = test_data.copy()\n",
    "\n",
    "\n",
    "#minimally process the test dataset to get model predictions\n",
    "\n",
    "#convert the policy start time to duration in mins\n",
    "mean_test['Policy Start Date'] = pd.to_datetime(mean_test['Policy Start Date'])\n",
    "mean_test['Policy Duration Mins'] = ((pd.Timestamp.now() - mean_test['Policy Start Date']).dt.total_seconds())/60\n",
    "mean_test = mean_test.drop(columns=['Policy Start Date'])\n",
    "\n",
    "#do label encoding\n",
    "categorical_cols = [mean_test.columns[i] for i, x in enumerate(mean_test.dtypes) if x == 'object']\n",
    "mean_test[categorical_cols] = mean_test[categorical_cols].astype('category')\n",
    "# Convert categorical to one hot encodings\n",
    "mean_test = pd.get_dummies(mean_test, drop_first=True)\n",
    "#fill nulls with mean values\n",
    "mean_test = mean_test.fillna(X.mean())\n",
    "\n",
    "\n",
    "mean_features = mean_test.iloc[:,1:]\n",
    "\n"
   ]
  },
  {
   "cell_type": "code",
   "execution_count": 11,
   "metadata": {},
   "outputs": [
    {
     "name": "stdout",
     "output_type": "stream",
     "text": [
      "Competition Name: playground-series-s4e12\n",
      "Full Submission File Path: ../results\\Random Forest_advanced_baseline_full_train.csv\n"
     ]
    },
    {
     "name": "stderr",
     "output_type": "stream",
     "text": [
      "100%|██████████| 12.8M/12.8M [00:11<00:00, 1.21MB/s]\n"
     ]
    },
    {
     "name": "stdout",
     "output_type": "stream",
     "text": [
      "Submission to 'playground-series-s4e12' successful!\n",
      "successful submission not found -- check kaggle\n",
      " https://www.kaggle.com/competitions/playground-series-s4e12/submissions\n",
      "[{'totalBytesNullable': 13386998, 'descriptionNullable': 'Advanced baseline model Random Forest using full clipped mean dataset', 'errorDescriptionNullable': 'Reading submission and solution', 'fileNameNullable': 'Random Forest_advanced_baseline_full_train.csv', 'publicScoreNullable': None, 'privateScoreNullable': None, 'submittedByNullable': 'mattlaraia', 'submittedByRefNullable': 'mattlaraia', 'teamNameNullable': 'MattLaraia', 'urlNullable': '/submissions/42040103/42040103.raw', 'ref': 42040103, 'totalBytes': 13386998, 'hasTotalBytes': True, 'date': '2024-12-24T04:04:28.72Z', 'description': 'Advanced baseline model Random Forest using full clipped mean dataset', 'hasDescription': True, 'errorDescription': 'Reading submission and solution', 'hasErrorDescription': True, 'fileName': 'Random Forest_advanced_baseline_full_train.csv', 'hasFileName': True, 'publicScore': '', 'hasPublicScore': False, 'privateScore': '', 'hasPrivateScore': False, 'status': 'pending', 'submittedBy': 'mattlaraia', 'hasSubmittedBy': True, 'submittedByRef': 'mattlaraia', 'hasSubmittedByRef': True, 'teamName': 'MattLaraia', 'hasTeamName': True, 'url': '/submissions/42040103/42040103.raw', 'hasUrl': True}, {'totalBytesNullable': 13388146, 'descriptionNullable': 'Advanced baseline model Random Forest using 25% of clipped mean dataset', 'errorDescriptionNullable': '', 'fileNameNullable': 'Random Forest_advanced_baseline_25_percent_train.csv', 'publicScoreNullable': '1.15752', 'privateScoreNullable': None, 'submittedByNullable': 'mattlaraia', 'submittedByRefNullable': 'mattlaraia', 'teamNameNullable': 'MattLaraia', 'urlNullable': '/submissions/42039411/42039411.raw', 'ref': 42039411, 'totalBytes': 13388146, 'hasTotalBytes': True, 'date': '2024-12-24T03:00:48.597Z', 'description': 'Advanced baseline model Random Forest using 25% of clipped mean dataset', 'hasDescription': True, 'errorDescription': '', 'hasErrorDescription': True, 'fileName': 'Random Forest_advanced_baseline_25_percent_train.csv', 'hasFileName': True, 'publicScore': '1.15752', 'hasPublicScore': True, 'privateScore': '', 'hasPrivateScore': False, 'status': 'complete', 'submittedBy': 'mattlaraia', 'hasSubmittedBy': True, 'submittedByRef': 'mattlaraia', 'hasSubmittedByRef': True, 'teamName': 'MattLaraia', 'hasTeamName': True, 'url': '/submissions/42039411/42039411.raw', 'hasUrl': True}, {'totalBytesNullable': 13383290, 'descriptionNullable': 'Advanced baseline model Random Forest using clipped mean dataset', 'errorDescriptionNullable': '', 'fileNameNullable': 'Random Forest_mean_imputation.csv', 'publicScoreNullable': '1.15910', 'privateScoreNullable': None, 'submittedByNullable': 'mattlaraia', 'submittedByRefNullable': 'mattlaraia', 'teamNameNullable': 'MattLaraia', 'urlNullable': '/submissions/42039158/42039158.raw', 'ref': 42039158, 'totalBytes': 13383290, 'hasTotalBytes': True, 'date': '2024-12-24T02:39:33.383Z', 'description': 'Advanced baseline model Random Forest using clipped mean dataset', 'hasDescription': True, 'errorDescription': '', 'hasErrorDescription': True, 'fileName': 'Random Forest_mean_imputation.csv', 'hasFileName': True, 'publicScore': '1.15910', 'hasPublicScore': True, 'privateScore': '', 'hasPrivateScore': False, 'status': 'complete', 'submittedBy': 'mattlaraia', 'hasSubmittedBy': True, 'submittedByRef': 'mattlaraia', 'hasSubmittedByRef': True, 'teamName': 'MattLaraia', 'hasTeamName': True, 'url': '/submissions/42039158/42039158.raw', 'hasUrl': True}, {'totalBytesNullable': 22194893, 'descriptionNullable': 'Linear Regression with clipping and mean imputed values', 'errorDescriptionNullable': '', 'fileNameNullable': 'Linear Regression_mean_imputation.csv', 'publicScoreNullable': '1.16530', 'privateScoreNullable': None, 'submittedByNullable': 'mattlaraia', 'submittedByRefNullable': 'mattlaraia', 'teamNameNullable': 'MattLaraia', 'urlNullable': '/submissions/42038751/42038751.raw', 'ref': 42038751, 'totalBytes': 22194893, 'hasTotalBytes': True, 'date': '2024-12-24T02:00:48.233Z', 'description': 'Linear Regression with clipping and mean imputed values', 'hasDescription': True, 'errorDescription': '', 'hasErrorDescription': True, 'fileName': 'Linear Regression_mean_imputation.csv', 'hasFileName': True, 'publicScore': '1.16530', 'hasPublicScore': True, 'privateScore': '', 'hasPrivateScore': False, 'status': 'complete', 'submittedBy': 'mattlaraia', 'hasSubmittedBy': True, 'submittedByRef': 'mattlaraia', 'hasSubmittedByRef': True, 'teamName': 'MattLaraia', 'hasTeamName': True, 'url': '/submissions/42038751/42038751.raw', 'hasUrl': True}, {'totalBytesNullable': 22195865, 'descriptionNullable': 'Linear Regression with correct median imputed values', 'errorDescriptionNullable': '', 'fileNameNullable': 'Linear Regression_median_imputation_fixed.csv', 'publicScoreNullable': '1.16553', 'privateScoreNullable': None, 'submittedByNullable': 'mattlaraia', 'submittedByRefNullable': 'mattlaraia', 'teamNameNullable': 'MattLaraia', 'urlNullable': '/submissions/42038488/42038488.raw', 'ref': 42038488, 'totalBytes': 22195865, 'hasTotalBytes': True, 'date': '2024-12-24T01:35:17.45Z', 'description': 'Linear Regression with correct median imputed values', 'hasDescription': True, 'errorDescription': '', 'hasErrorDescription': True, 'fileName': 'Linear Regression_median_imputation_fixed.csv', 'hasFileName': True, 'publicScore': '1.16553', 'hasPublicScore': True, 'privateScore': '', 'hasPrivateScore': False, 'status': 'complete', 'submittedBy': 'mattlaraia', 'hasSubmittedBy': True, 'submittedByRef': 'mattlaraia', 'hasSubmittedByRef': True, 'teamName': 'MattLaraia', 'hasTeamName': True, 'url': '/submissions/42038488/42038488.raw', 'hasUrl': True}, {'totalBytesNullable': 16800019, 'descriptionNullable': 'base submission - clippped mean', 'errorDescriptionNullable': '', 'fileNameNullable': 'clipped_mean_results.csv', 'publicScoreNullable': '1.16701', 'privateScoreNullable': None, 'submittedByNullable': 'mattlaraia', 'submittedByRefNullable': 'mattlaraia', 'teamNameNullable': 'MattLaraia', 'urlNullable': '/submissions/42004932/42004932.raw', 'ref': 42004932, 'totalBytes': 16800019, 'hasTotalBytes': True, 'date': '2024-12-22T07:13:20.657Z', 'description': 'base submission - clippped mean', 'hasDescription': True, 'errorDescription': '', 'hasErrorDescription': True, 'fileName': 'clipped_mean_results.csv', 'hasFileName': True, 'publicScore': '1.16701', 'hasPublicScore': True, 'privateScore': '', 'hasPrivateScore': False, 'status': 'complete', 'submittedBy': 'mattlaraia', 'hasSubmittedBy': True, 'submittedByRef': 'mattlaraia', 'hasSubmittedByRef': True, 'teamName': 'MattLaraia', 'hasTeamName': True, 'url': '/submissions/42004932/42004932.raw', 'hasUrl': True}, {'totalBytesNullable': 22195420, 'descriptionNullable': 'Linear Regression with clipping and mean imputed values', 'errorDescriptionNullable': '', 'fileNameNullable': 'Linear Regression_mean_imputation.csv', 'publicScoreNullable': '1.16531', 'privateScoreNullable': None, 'submittedByNullable': 'mattlaraia', 'submittedByRefNullable': 'mattlaraia', 'teamNameNullable': 'MattLaraia', 'urlNullable': '/submissions/42004811/42004811.raw', 'ref': 42004811, 'totalBytes': 22195420, 'hasTotalBytes': True, 'date': '2024-12-22T07:04:33.837Z', 'description': 'Linear Regression with clipping and mean imputed values', 'hasDescription': True, 'errorDescription': '', 'hasErrorDescription': True, 'fileName': 'Linear Regression_mean_imputation.csv', 'hasFileName': True, 'publicScore': '1.16531', 'hasPublicScore': True, 'privateScore': '', 'hasPrivateScore': False, 'status': 'complete', 'submittedBy': 'mattlaraia', 'hasSubmittedBy': True, 'submittedByRef': 'mattlaraia', 'hasSubmittedByRef': True, 'teamName': 'MattLaraia', 'hasTeamName': True, 'url': '/submissions/42004811/42004811.raw', 'hasUrl': True}, {'totalBytesNullable': 22196630, 'descriptionNullable': 'Linear Regression with median imputed values', 'errorDescriptionNullable': '', 'fileNameNullable': 'Linear Regression_median_imputation.csv', 'publicScoreNullable': '1.16552', 'privateScoreNullable': None, 'submittedByNullable': 'mattlaraia', 'submittedByRefNullable': 'mattlaraia', 'teamNameNullable': 'MattLaraia', 'urlNullable': '/submissions/42004249/42004249.raw', 'ref': 42004249, 'totalBytes': 22196630, 'hasTotalBytes': True, 'date': '2024-12-22T06:20:28.65Z', 'description': 'Linear Regression with median imputed values', 'hasDescription': True, 'errorDescription': '', 'hasErrorDescription': True, 'fileName': 'Linear Regression_median_imputation.csv', 'hasFileName': True, 'publicScore': '1.16552', 'hasPublicScore': True, 'privateScore': '', 'hasPrivateScore': False, 'status': 'complete', 'submittedBy': 'mattlaraia', 'hasSubmittedBy': True, 'submittedByRef': 'mattlaraia', 'hasSubmittedByRef': True, 'teamName': 'MattLaraia', 'hasTeamName': True, 'url': '/submissions/42004249/42004249.raw', 'hasUrl': True}, {'totalBytesNullable': 12303013, 'descriptionNullable': 'baseline: Decision Tree + minimally processed one-hot encoded dataset', 'errorDescriptionNullable': '', 'fileNameNullable': 'Decision Tree_baseline_one_hot_stratified.csv', 'publicScoreNullable': '1.54056', 'privateScoreNullable': None, 'submittedByNullable': 'mattlaraia', 'submittedByRefNullable': 'mattlaraia', 'teamNameNullable': 'MattLaraia', 'urlNullable': '/submissions/41981717/41981717.raw', 'ref': 41981717, 'totalBytes': 12303013, 'hasTotalBytes': True, 'date': '2024-12-21T00:17:57.013Z', 'description': 'baseline: Decision Tree + minimally processed one-hot encoded dataset', 'hasDescription': True, 'errorDescription': '', 'hasErrorDescription': True, 'fileName': 'Decision Tree_baseline_one_hot_stratified.csv', 'hasFileName': True, 'publicScore': '1.54056', 'hasPublicScore': True, 'privateScore': '', 'hasPrivateScore': False, 'status': 'complete', 'submittedBy': 'mattlaraia', 'hasSubmittedBy': True, 'submittedByRef': 'mattlaraia', 'hasSubmittedByRef': True, 'teamName': 'MattLaraia', 'hasTeamName': True, 'url': '/submissions/41981717/41981717.raw', 'hasUrl': True}, {'totalBytesNullable': 22197463, 'descriptionNullable': 'baseline: Ridge Regression + minimally processed one-hot encoded dataset', 'errorDescriptionNullable': '', 'fileNameNullable': 'Ridge Regression_baseline_one_hot_stratified.csv', 'publicScoreNullable': '1.16927', 'privateScoreNullable': None, 'submittedByNullable': 'mattlaraia', 'submittedByRefNullable': 'mattlaraia', 'teamNameNullable': 'MattLaraia', 'urlNullable': '/submissions/41981713/41981713.raw', 'ref': 41981713, 'totalBytes': 22197463, 'hasTotalBytes': True, 'date': '2024-12-21T00:17:41.237Z', 'description': 'baseline: Ridge Regression + minimally processed one-hot encoded dataset', 'hasDescription': True, 'errorDescription': '', 'hasErrorDescription': True, 'fileName': 'Ridge Regression_baseline_one_hot_stratified.csv', 'hasFileName': True, 'publicScore': '1.16927', 'hasPublicScore': True, 'privateScore': '', 'hasPrivateScore': False, 'status': 'complete', 'submittedBy': 'mattlaraia', 'hasSubmittedBy': True, 'submittedByRef': 'mattlaraia', 'hasSubmittedByRef': True, 'teamName': 'MattLaraia', 'hasTeamName': True, 'url': '/submissions/41981713/41981713.raw', 'hasUrl': True}, {'totalBytesNullable': 22196948, 'descriptionNullable': 'baseline: Linear Regression + minimally processed one-hot encoded dataset', 'errorDescriptionNullable': '', 'fileNameNullable': 'Linear Regression_baseline_one_hot_stratified.csv', 'publicScoreNullable': '1.16927', 'privateScoreNullable': None, 'submittedByNullable': 'mattlaraia', 'submittedByRefNullable': 'mattlaraia', 'teamNameNullable': 'MattLaraia', 'urlNullable': '/submissions/41981708/41981708.raw', 'ref': 41981708, 'totalBytes': 22196948, 'hasTotalBytes': True, 'date': '2024-12-21T00:17:17.443Z', 'description': 'baseline: Linear Regression + minimally processed one-hot encoded dataset', 'hasDescription': True, 'errorDescription': '', 'hasErrorDescription': True, 'fileName': 'Linear Regression_baseline_one_hot_stratified.csv', 'hasFileName': True, 'publicScore': '1.16927', 'hasPublicScore': True, 'privateScore': '', 'hasPrivateScore': False, 'status': 'complete', 'submittedBy': 'mattlaraia', 'hasSubmittedBy': True, 'submittedByRef': 'mattlaraia', 'hasSubmittedByRef': True, 'teamName': 'MattLaraia', 'hasTeamName': True, 'url': '/submissions/41981708/41981708.raw', 'hasUrl': True}, {'totalBytesNullable': 22196918, 'descriptionNullable': 'baseline: Ridge Regression + minimally processed one-hot encoded dataset', 'errorDescriptionNullable': '', 'fileNameNullable': 'Ridge Regression_baseline_one_hot.csv', 'publicScoreNullable': '1.16918', 'privateScoreNullable': None, 'submittedByNullable': 'mattlaraia', 'submittedByRefNullable': 'mattlaraia', 'teamNameNullable': 'MattLaraia', 'urlNullable': '/submissions/41979945/41979945.raw', 'ref': 41979945, 'totalBytes': 22196918, 'hasTotalBytes': True, 'date': '2024-12-20T21:22:58.787Z', 'description': 'baseline: Ridge Regression + minimally processed one-hot encoded dataset', 'hasDescription': True, 'errorDescription': '', 'hasErrorDescription': True, 'fileName': 'Ridge Regression_baseline_one_hot.csv', 'hasFileName': True, 'publicScore': '1.16918', 'hasPublicScore': True, 'privateScore': '', 'hasPrivateScore': False, 'status': 'complete', 'submittedBy': 'mattlaraia', 'hasSubmittedBy': True, 'submittedByRef': 'mattlaraia', 'hasSubmittedByRef': True, 'teamName': 'MattLaraia', 'hasTeamName': True, 'url': '/submissions/41979945/41979945.raw', 'hasUrl': True}, {'totalBytesNullable': 22197574, 'descriptionNullable': 'baseline: Linear Regression + minimally processed one-hot encoded dataset', 'errorDescriptionNullable': '', 'fileNameNullable': 'Linear Regression_baseline_one_hot.csv', 'publicScoreNullable': '1.16918', 'privateScoreNullable': None, 'submittedByNullable': 'mattlaraia', 'submittedByRefNullable': 'mattlaraia', 'teamNameNullable': 'MattLaraia', 'urlNullable': '/submissions/41979938/41979938.raw', 'ref': 41979938, 'totalBytes': 22197574, 'hasTotalBytes': True, 'date': '2024-12-20T21:22:31.863Z', 'description': 'baseline: Linear Regression + minimally processed one-hot encoded dataset', 'hasDescription': True, 'errorDescription': '', 'hasErrorDescription': True, 'fileName': 'Linear Regression_baseline_one_hot.csv', 'hasFileName': True, 'publicScore': '1.16918', 'hasPublicScore': True, 'privateScore': '', 'hasPrivateScore': False, 'status': 'complete', 'submittedBy': 'mattlaraia', 'hasSubmittedBy': True, 'submittedByRef': 'mattlaraia', 'hasSubmittedByRef': True, 'teamName': 'MattLaraia', 'hasTeamName': True, 'url': '/submissions/41979938/41979938.raw', 'hasUrl': True}, {'totalBytesNullable': 12390916, 'descriptionNullable': 'baseline: Decision Tree + minimally processed dataset', 'errorDescriptionNullable': '', 'fileNameNullable': 'Decision Tree_baseline.csv', 'publicScoreNullable': '1.62572', 'privateScoreNullable': None, 'submittedByNullable': 'mattlaraia', 'submittedByRefNullable': 'mattlaraia', 'teamNameNullable': 'MattLaraia', 'urlNullable': '/submissions/41964718/41964718.raw', 'ref': 41964718, 'totalBytes': 12390916, 'hasTotalBytes': True, 'date': '2024-12-20T04:49:32.767Z', 'description': 'baseline: Decision Tree + minimally processed dataset', 'hasDescription': True, 'errorDescription': '', 'hasErrorDescription': True, 'fileName': 'Decision Tree_baseline.csv', 'hasFileName': True, 'publicScore': '1.62572', 'hasPublicScore': True, 'privateScore': '', 'hasPrivateScore': False, 'status': 'complete', 'submittedBy': 'mattlaraia', 'hasSubmittedBy': True, 'submittedByRef': 'mattlaraia', 'hasSubmittedByRef': True, 'teamName': 'MattLaraia', 'hasTeamName': True, 'url': '/submissions/41964718/41964718.raw', 'hasUrl': True}, {'totalBytesNullable': 22198253, 'descriptionNullable': 'baseline: Ridge Regression + minimally processed dataset', 'errorDescriptionNullable': '', 'fileNameNullable': 'Ridge Regression_baseline.csv', 'publicScoreNullable': '1.31409', 'privateScoreNullable': None, 'submittedByNullable': 'mattlaraia', 'submittedByRefNullable': 'mattlaraia', 'teamNameNullable': 'MattLaraia', 'urlNullable': '/submissions/41964712/41964712.raw', 'ref': 41964712, 'totalBytes': 22198253, 'hasTotalBytes': True, 'date': '2024-12-20T04:49:19.883Z', 'description': 'baseline: Ridge Regression + minimally processed dataset', 'hasDescription': True, 'errorDescription': '', 'hasErrorDescription': True, 'fileName': 'Ridge Regression_baseline.csv', 'hasFileName': True, 'publicScore': '1.31409', 'hasPublicScore': True, 'privateScore': '', 'hasPrivateScore': False, 'status': 'complete', 'submittedBy': 'mattlaraia', 'hasSubmittedBy': True, 'submittedByRef': 'mattlaraia', 'hasSubmittedByRef': True, 'teamName': 'MattLaraia', 'hasTeamName': True, 'url': '/submissions/41964712/41964712.raw', 'hasUrl': True}, {'totalBytesNullable': 22197759, 'descriptionNullable': 'baseline: Linear Regression + minimally processed dataset', 'errorDescriptionNullable': '', 'fileNameNullable': 'Linear Regression_baseline.csv', 'publicScoreNullable': '1.31409', 'privateScoreNullable': None, 'submittedByNullable': 'mattlaraia', 'submittedByRefNullable': 'mattlaraia', 'teamNameNullable': 'MattLaraia', 'urlNullable': '/submissions/41964706/41964706.raw', 'ref': 41964706, 'totalBytes': 22197759, 'hasTotalBytes': True, 'date': '2024-12-20T04:48:58.233Z', 'description': 'baseline: Linear Regression + minimally processed dataset', 'hasDescription': True, 'errorDescription': '', 'hasErrorDescription': True, 'fileName': 'Linear Regression_baseline.csv', 'hasFileName': True, 'publicScore': '1.31409', 'hasPublicScore': True, 'privateScore': '', 'hasPrivateScore': False, 'status': 'complete', 'submittedBy': 'mattlaraia', 'hasSubmittedBy': True, 'submittedByRef': 'mattlaraia', 'hasSubmittedByRef': True, 'teamName': 'MattLaraia', 'hasTeamName': True, 'url': '/submissions/41964706/41964706.raw', 'hasUrl': True}, {'totalBytesNullable': 22400019, 'descriptionNullable': 'base submission - mean', 'errorDescriptionNullable': '', 'fileNameNullable': 'mean_results.csv', 'publicScoreNullable': '1.16835', 'privateScoreNullable': None, 'submittedByNullable': 'mattlaraia', 'submittedByRefNullable': 'mattlaraia', 'teamNameNullable': 'MattLaraia', 'urlNullable': '/submissions/41863786/41863786.raw', 'ref': 41863786, 'totalBytes': 22400019, 'hasTotalBytes': True, 'date': '2024-12-15T20:57:02.703Z', 'description': 'base submission - mean', 'hasDescription': True, 'errorDescription': '', 'hasErrorDescription': True, 'fileName': 'mean_results.csv', 'hasFileName': True, 'publicScore': '1.16835', 'hasPublicScore': True, 'privateScore': '', 'hasPrivateScore': False, 'status': 'complete', 'submittedBy': 'mattlaraia', 'hasSubmittedBy': True, 'submittedByRef': 'mattlaraia', 'hasSubmittedByRef': True, 'teamName': 'MattLaraia', 'hasTeamName': True, 'url': '/submissions/41863786/41863786.raw', 'hasUrl': True}, {'totalBytesNullable': 12000019, 'descriptionNullable': 'base submission - median', 'errorDescriptionNullable': '', 'fileNameNullable': 'median_results.csv', 'publicScoreNullable': '1.10815', 'privateScoreNullable': None, 'submittedByNullable': 'mattlaraia', 'submittedByRefNullable': 'mattlaraia', 'teamNameNullable': 'MattLaraia', 'urlNullable': '/submissions/41863782/41863782.raw', 'ref': 41863782, 'totalBytes': 12000019, 'hasTotalBytes': True, 'date': '2024-12-15T20:56:46.207Z', 'description': 'base submission - median', 'hasDescription': True, 'errorDescription': '', 'hasErrorDescription': True, 'fileName': 'median_results.csv', 'hasFileName': True, 'publicScore': '1.10815', 'hasPublicScore': True, 'privateScore': '', 'hasPrivateScore': False, 'status': 'complete', 'submittedBy': 'mattlaraia', 'hasSubmittedBy': True, 'submittedByRef': 'mattlaraia', 'hasSubmittedByRef': True, 'teamName': 'MattLaraia', 'hasTeamName': True, 'url': '/submissions/41863782/41863782.raw', 'hasUrl': True}, {'totalBytesNullable': 22400019, 'descriptionNullable': '', 'errorDescriptionNullable': '', 'fileNameNullable': 'mean_results.csv', 'publicScoreNullable': '1.16835', 'privateScoreNullable': None, 'submittedByNullable': 'mattlaraia', 'submittedByRefNullable': 'mattlaraia', 'teamNameNullable': 'MattLaraia', 'urlNullable': '/submissions/41863710/41863710.raw', 'ref': 41863710, 'totalBytes': 22400019, 'hasTotalBytes': True, 'date': '2024-12-15T20:51:25.507Z', 'description': '', 'hasDescription': True, 'errorDescription': '', 'hasErrorDescription': True, 'fileName': 'mean_results.csv', 'hasFileName': True, 'publicScore': '1.16835', 'hasPublicScore': True, 'privateScore': '', 'hasPrivateScore': False, 'status': 'complete', 'submittedBy': 'mattlaraia', 'hasSubmittedBy': True, 'submittedByRef': 'mattlaraia', 'hasSubmittedByRef': True, 'teamName': 'MattLaraia', 'hasTeamName': True, 'url': '/submissions/41863710/41863710.raw', 'hasUrl': True}, {'totalBytesNullable': 17488910, 'descriptionNullable': 'baseline submission - median', 'errorDescriptionNullable': \"ERROR: Unexpected Column:  '' (Line 1, Column 1)\", 'fileNameNullable': 'median_results.csv', 'publicScoreNullable': None, 'privateScoreNullable': None, 'submittedByNullable': 'mattlaraia', 'submittedByRefNullable': 'mattlaraia', 'teamNameNullable': 'MattLaraia', 'urlNullable': '/submissions/41862193/41862193.raw', 'ref': 41862193, 'totalBytes': 17488910, 'hasTotalBytes': True, 'date': '2024-12-15T19:07:10.32Z', 'description': 'baseline submission - median', 'hasDescription': True, 'errorDescription': \"ERROR: Unexpected Column:  '' (Line 1, Column 1)\", 'hasErrorDescription': True, 'fileName': 'median_results.csv', 'hasFileName': True, 'publicScore': '', 'hasPublicScore': False, 'privateScore': '', 'hasPrivateScore': False, 'status': 'error', 'submittedBy': 'mattlaraia', 'hasSubmittedBy': True, 'submittedByRef': 'mattlaraia', 'hasSubmittedByRef': True, 'teamName': 'MattLaraia', 'hasTeamName': True, 'url': '/submissions/41862193/41862193.raw', 'hasUrl': True}, {'totalBytesNullable': 27888910, 'descriptionNullable': 'baseline submission - mean', 'errorDescriptionNullable': \"ERROR: Unexpected Column:  '' (Line 1, Column 1)\", 'fileNameNullable': 'mean_results.csv', 'publicScoreNullable': None, 'privateScoreNullable': None, 'submittedByNullable': 'mattlaraia', 'submittedByRefNullable': 'mattlaraia', 'teamNameNullable': 'MattLaraia', 'urlNullable': '/submissions/41862186/41862186.raw', 'ref': 41862186, 'totalBytes': 27888910, 'hasTotalBytes': True, 'date': '2024-12-15T19:06:52.907Z', 'description': 'baseline submission - mean', 'hasDescription': True, 'errorDescription': \"ERROR: Unexpected Column:  '' (Line 1, Column 1)\", 'hasErrorDescription': True, 'fileName': 'mean_results.csv', 'hasFileName': True, 'publicScore': '', 'hasPublicScore': False, 'privateScore': '', 'hasPrivateScore': False, 'status': 'error', 'submittedBy': 'mattlaraia', 'hasSubmittedBy': True, 'submittedByRef': 'mattlaraia', 'hasSubmittedByRef': True, 'teamName': 'MattLaraia', 'hasTeamName': True, 'url': '/submissions/41862186/41862186.raw', 'hasUrl': True}]\n"
     ]
    }
   ],
   "source": [
    "#generate results and submit to competition\n",
    "results_directory = \"../results\"\n",
    "\n",
    "for name, model in full_models.items():\n",
    "    \n",
    "    y_pred = model.predict(mean_features)\n",
    "\n",
    "    results = pd.DataFrame({\n",
    "        'id': mean_test['id'],  \n",
    "        'Premium Amount': y_pred   \n",
    "    })\n",
    "\n",
    "    filename = f\"{name}_advanced_baseline_full_train.csv\"\n",
    "    results_full_path = os.path.join(results_directory,filename)\n",
    "    \n",
    "    results.to_csv(results_full_path, index=False)\n",
    "\n",
    "    submission_comment = f\"Advanced baseline model {name} using full clipped mean dataset\"\n",
    "    submit(filename,submission_comment) "
   ]
  }
 ],
 "metadata": {
  "kernelspec": {
   "display_name": ".venv",
   "language": "python",
   "name": "python3"
  },
  "language_info": {
   "codemirror_mode": {
    "name": "ipython",
    "version": 3
   },
   "file_extension": ".py",
   "mimetype": "text/x-python",
   "name": "python",
   "nbconvert_exporter": "python",
   "pygments_lexer": "ipython3",
   "version": "3.11.5"
  }
 },
 "nbformat": 4,
 "nbformat_minor": 2
}
