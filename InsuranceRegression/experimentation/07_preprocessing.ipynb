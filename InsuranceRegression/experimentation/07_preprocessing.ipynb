{
 "cells": [
  {
   "cell_type": "markdown",
   "metadata": {},
   "source": [
    "# Dataset Preprocessing\n",
    "\n",
    "Here we will mainly focus on building off of `03_imputation_clipped_mean.csv` by doing the following:\n",
    "\n",
    "1. reviewing columns for any logical clipping of obviously wrong values\n",
    "2. skewed distribution handling\n",
    "3. scaling/normalization of data"
   ]
  },
  {
   "cell_type": "code",
   "execution_count": 32,
   "metadata": {},
   "outputs": [],
   "source": [
    "import numpy as np\n",
    "from scipy.stats import skew"
   ]
  },
  {
   "cell_type": "code",
   "execution_count": 33,
   "metadata": {},
   "outputs": [
    {
     "data": {
      "text/html": [
       "<div>\n",
       "<style scoped>\n",
       "    .dataframe tbody tr th:only-of-type {\n",
       "        vertical-align: middle;\n",
       "    }\n",
       "\n",
       "    .dataframe tbody tr th {\n",
       "        vertical-align: top;\n",
       "    }\n",
       "\n",
       "    .dataframe thead th {\n",
       "        text-align: right;\n",
       "    }\n",
       "</style>\n",
       "<table border=\"1\" class=\"dataframe\">\n",
       "  <thead>\n",
       "    <tr style=\"text-align: right;\">\n",
       "      <th></th>\n",
       "      <th>Age</th>\n",
       "      <th>Annual Income</th>\n",
       "      <th>Number of Dependents</th>\n",
       "      <th>Health Score</th>\n",
       "      <th>Previous Claims</th>\n",
       "      <th>Vehicle Age</th>\n",
       "      <th>Credit Score</th>\n",
       "      <th>Insurance Duration</th>\n",
       "      <th>Premium Amount</th>\n",
       "      <th>Policy Duration Mins</th>\n",
       "      <th>Gender_Male</th>\n",
       "      <th>Marital Status_Married</th>\n",
       "      <th>Marital Status_Single</th>\n",
       "      <th>Education Level_High School</th>\n",
       "      <th>Education Level_Master's</th>\n",
       "      <th>Education Level_PhD</th>\n",
       "      <th>Occupation_Self-Employed</th>\n",
       "      <th>Occupation_Unemployed</th>\n",
       "      <th>Location_Suburban</th>\n",
       "      <th>Location_Urban</th>\n",
       "      <th>Policy Type_Comprehensive</th>\n",
       "      <th>Policy Type_Premium</th>\n",
       "      <th>Customer Feedback_Good</th>\n",
       "      <th>Customer Feedback_Poor</th>\n",
       "      <th>Smoking Status_Yes</th>\n",
       "      <th>Exercise Frequency_Monthly</th>\n",
       "      <th>Exercise Frequency_Rarely</th>\n",
       "      <th>Exercise Frequency_Weekly</th>\n",
       "      <th>Property Type_Condo</th>\n",
       "      <th>Property Type_House</th>\n",
       "    </tr>\n",
       "  </thead>\n",
       "  <tbody>\n",
       "    <tr>\n",
       "      <th>0</th>\n",
       "      <td>19.0</td>\n",
       "      <td>10049.0</td>\n",
       "      <td>1.0</td>\n",
       "      <td>22.598761</td>\n",
       "      <td>2.0</td>\n",
       "      <td>17.0</td>\n",
       "      <td>372.0</td>\n",
       "      <td>5.0</td>\n",
       "      <td>2869.0</td>\n",
       "      <td>518866.882265</td>\n",
       "      <td>False</td>\n",
       "      <td>True</td>\n",
       "      <td>False</td>\n",
       "      <td>False</td>\n",
       "      <td>False</td>\n",
       "      <td>False</td>\n",
       "      <td>True</td>\n",
       "      <td>False</td>\n",
       "      <td>False</td>\n",
       "      <td>True</td>\n",
       "      <td>False</td>\n",
       "      <td>True</td>\n",
       "      <td>False</td>\n",
       "      <td>True</td>\n",
       "      <td>False</td>\n",
       "      <td>False</td>\n",
       "      <td>False</td>\n",
       "      <td>True</td>\n",
       "      <td>False</td>\n",
       "      <td>True</td>\n",
       "    </tr>\n",
       "  </tbody>\n",
       "</table>\n",
       "</div>"
      ],
      "text/plain": [
       "    Age  Annual Income  Number of Dependents  Health Score  Previous Claims  \\\n",
       "0  19.0        10049.0                   1.0     22.598761              2.0   \n",
       "\n",
       "   Vehicle Age  Credit Score  Insurance Duration  Premium Amount  \\\n",
       "0         17.0         372.0                 5.0          2869.0   \n",
       "\n",
       "   Policy Duration Mins  Gender_Male  Marital Status_Married  \\\n",
       "0         518866.882265        False                    True   \n",
       "\n",
       "   Marital Status_Single  Education Level_High School  \\\n",
       "0                  False                        False   \n",
       "\n",
       "   Education Level_Master's  Education Level_PhD  Occupation_Self-Employed  \\\n",
       "0                     False                False                      True   \n",
       "\n",
       "   Occupation_Unemployed  Location_Suburban  Location_Urban  \\\n",
       "0                  False              False            True   \n",
       "\n",
       "   Policy Type_Comprehensive  Policy Type_Premium  Customer Feedback_Good  \\\n",
       "0                      False                 True                   False   \n",
       "\n",
       "   Customer Feedback_Poor  Smoking Status_Yes  Exercise Frequency_Monthly  \\\n",
       "0                    True               False                       False   \n",
       "\n",
       "   Exercise Frequency_Rarely  Exercise Frequency_Weekly  Property Type_Condo  \\\n",
       "0                      False                       True                False   \n",
       "\n",
       "   Property Type_House  \n",
       "0                 True  "
      ]
     },
     "execution_count": 33,
     "metadata": {},
     "output_type": "execute_result"
    }
   ],
   "source": [
    "# review feature distributions (using data wrangler)\n",
    "\n",
    "train_dataset = pd.read_csv(\"../data/03_imputation_clipped_mean.csv\")\n",
    "y_col = \"Premium Amount\"\n",
    "\n",
    "train_dataset.head(1)"
   ]
  },
  {
   "cell_type": "markdown",
   "metadata": {},
   "source": [
    "# 1. preprocessing for linear models\n",
    "\n",
    "transform y\n",
    "\n",
    "apply standardization"
   ]
  },
  {
   "cell_type": "code",
   "execution_count": 34,
   "metadata": {},
   "outputs": [],
   "source": [
    "linear_train_dataset = train_dataset.copy()"
   ]
  },
  {
   "cell_type": "markdown",
   "metadata": {},
   "source": [
    "## 1.1 Handle Skewed Distributions\n"
   ]
  },
  {
   "cell_type": "markdown",
   "metadata": {},
   "source": [
    "### expand for more info"
   ]
  },
  {
   "cell_type": "markdown",
   "metadata": {},
   "source": [
    "Why: Many machine learning models (especially linear ones) assume features are normally distributed.\n",
    "\n",
    "How:\n",
    "\n",
    "Log Transformation: For highly positive-skewed data (e.g., income).\n",
    "\n",
    "Box-Cox Transformation: For reducing skewness in a broader range of distributions (requires data > 0).\n",
    "\n",
    "Winsorization: Replace extreme values with the nearest threshold instead of removing them.\n",
    "Example:\n",
    "\n",
    "Column: Salary\n",
    "Data: [25k, 30k, 28k, 1.2M, 29k, 31k]\n",
    "Action: Apply log transformation.\n",
    "Result: [10.12, 10.31, 10.24, 13.00, 10.27, 10.34]"
   ]
  },
  {
   "cell_type": "markdown",
   "metadata": {},
   "source": [
    "### Apply Transforms including `y_col`"
   ]
  },
  {
   "cell_type": "code",
   "execution_count": 35,
   "metadata": {},
   "outputs": [],
   "source": [
    "#most likely columns needed to be transformed\n",
    "# log_transform_cols = ['Annual Income','Health Score', 'Previous Claims', y_col]\n",
    "\n",
    "#for now since we can check skew value, just check all non-binary columns for need to transform\n",
    "non_binary_cols = [col for col in linear_train_dataset.columns if linear_train_dataset[col].dtype != 'bool']\n"
   ]
  },
  {
   "cell_type": "code",
   "execution_count": 36,
   "metadata": {},
   "outputs": [
    {
     "name": "stdout",
     "output_type": "stream",
     "text": [
      "Transformed Age 0 time(s). Final skew: -0.01\n",
      "Transformed Annual Income 3 time(s). Final skew: 0.01\n",
      "Transformed Number of Dependents 0 time(s). Final skew: -0.01\n",
      "Transformed Health Score 0 time(s). Final skew: 0.29\n",
      "Transformed Previous Claims 1 time(s). Final skew: -0.17\n",
      "Transformed Vehicle Age 0 time(s). Final skew: -0.02\n",
      "Transformed Credit Score 0 time(s). Final skew: -0.12\n",
      "Transformed Insurance Duration 0 time(s). Final skew: -0.01\n",
      "Transformed Premium Amount 3 time(s). Final skew: 0.13\n",
      "Transformed Policy Duration Mins 0 time(s). Final skew: -0.01\n"
     ]
    }
   ],
   "source": [
    "# Apply transformations iteratively until skew is within [-0.5, 0.5]\n",
    "for col in non_binary_cols:\n",
    "    max_iterations = 3  # Prevent excessive loops\n",
    "    iteration = 0\n",
    "\n",
    "    while iteration < max_iterations:\n",
    "        skew_value = skew(linear_train_dataset[col])\n",
    "        \n",
    "        if -0.5 <= skew_value <= 0.5:\n",
    "            break  # Stop if skew is already in range\n",
    "        \n",
    "        if skew_value > 0.5:\n",
    "            linear_train_dataset[col] = np.log1p(linear_train_dataset[col])  # Log transform for positive skew\n",
    "        elif skew_value < -0.5:\n",
    "            linear_train_dataset[col] = linear_train_dataset[col]**2  # Square for negative skew\n",
    "            \n",
    "        iteration += 1\n",
    "    \n",
    "    final_skew = skew(linear_train_dataset[col])\n",
    "    print(f\"Transformed {col} {iteration} time(s). Final skew: {final_skew:.2f}\")\n"
   ]
  },
  {
   "cell_type": "markdown",
   "metadata": {},
   "source": [
    "## 1.2 Standardizing features "
   ]
  },
  {
   "cell_type": "markdown",
   "metadata": {},
   "source": [
    "### (exapand for info on Scaling/Normalization/Standardization)"
   ]
  },
  {
   "cell_type": "markdown",
   "metadata": {},
   "source": [
    "Why: Helps models converge faster and prevents one feature from dominating due to its scale.\n",
    "\n",
    "Methods:\n",
    "\n",
    "Normalization: Scale to a fixed range [0, 1].\n",
    "\n",
    "Standardization: Center data around 0 with unit variance.\n",
    "\n",
    "Robust Scaling: Scale using the median and IQR (useful for data with outliers).\n",
    "\n",
    "Example:\n",
    "\n",
    "Column: Height\n",
    "\n",
    "Data: [150, 160, 170, 180]\n",
    "\n",
    "Action: Normalize.\n",
    "\n",
    "Result: [0, 0.33, 0.67, 1.0]"
   ]
  },
  {
   "cell_type": "markdown",
   "metadata": {},
   "source": [
    "### Applying z-score standardization\n"
   ]
  },
  {
   "cell_type": "code",
   "execution_count": 38,
   "metadata": {},
   "outputs": [
    {
     "data": {
      "text/html": [
       "<div>\n",
       "<style scoped>\n",
       "    .dataframe tbody tr th:only-of-type {\n",
       "        vertical-align: middle;\n",
       "    }\n",
       "\n",
       "    .dataframe tbody tr th {\n",
       "        vertical-align: top;\n",
       "    }\n",
       "\n",
       "    .dataframe thead th {\n",
       "        text-align: right;\n",
       "    }\n",
       "</style>\n",
       "<table border=\"1\" class=\"dataframe\">\n",
       "  <thead>\n",
       "    <tr style=\"text-align: right;\">\n",
       "      <th></th>\n",
       "      <th>Age</th>\n",
       "      <th>Annual Income</th>\n",
       "      <th>Number of Dependents</th>\n",
       "      <th>Health Score</th>\n",
       "      <th>Previous Claims</th>\n",
       "      <th>Vehicle Age</th>\n",
       "      <th>Credit Score</th>\n",
       "      <th>Insurance Duration</th>\n",
       "      <th>Premium Amount</th>\n",
       "      <th>Policy Duration Mins</th>\n",
       "      <th>Gender_Male</th>\n",
       "      <th>Marital Status_Married</th>\n",
       "      <th>Marital Status_Single</th>\n",
       "      <th>Education Level_High School</th>\n",
       "      <th>Education Level_Master's</th>\n",
       "      <th>Education Level_PhD</th>\n",
       "      <th>Occupation_Self-Employed</th>\n",
       "      <th>Occupation_Unemployed</th>\n",
       "      <th>Location_Suburban</th>\n",
       "      <th>Location_Urban</th>\n",
       "      <th>Policy Type_Comprehensive</th>\n",
       "      <th>Policy Type_Premium</th>\n",
       "      <th>Customer Feedback_Good</th>\n",
       "      <th>Customer Feedback_Poor</th>\n",
       "      <th>Smoking Status_Yes</th>\n",
       "      <th>Exercise Frequency_Monthly</th>\n",
       "      <th>Exercise Frequency_Rarely</th>\n",
       "      <th>Exercise Frequency_Weekly</th>\n",
       "      <th>Property Type_Condo</th>\n",
       "      <th>Property Type_House</th>\n",
       "    </tr>\n",
       "  </thead>\n",
       "  <tbody>\n",
       "    <tr>\n",
       "      <th>0</th>\n",
       "      <td>-1.64847</td>\n",
       "      <td>-0.65692</td>\n",
       "      <td>-0.747535</td>\n",
       "      <td>-0.255551</td>\n",
       "      <td>1.190605</td>\n",
       "      <td>1.286338</td>\n",
       "      <td>-1.567243</td>\n",
       "      <td>-0.007023</td>\n",
       "      <td>1.730884</td>\n",
       "      <td>-1.301872</td>\n",
       "      <td>False</td>\n",
       "      <td>True</td>\n",
       "      <td>False</td>\n",
       "      <td>False</td>\n",
       "      <td>False</td>\n",
       "      <td>False</td>\n",
       "      <td>True</td>\n",
       "      <td>False</td>\n",
       "      <td>False</td>\n",
       "      <td>True</td>\n",
       "      <td>False</td>\n",
       "      <td>True</td>\n",
       "      <td>False</td>\n",
       "      <td>True</td>\n",
       "      <td>False</td>\n",
       "      <td>False</td>\n",
       "      <td>False</td>\n",
       "      <td>True</td>\n",
       "      <td>False</td>\n",
       "      <td>True</td>\n",
       "    </tr>\n",
       "  </tbody>\n",
       "</table>\n",
       "</div>"
      ],
      "text/plain": [
       "       Age  Annual Income  Number of Dependents  Health Score  \\\n",
       "0 -1.64847       -0.65692             -0.747535     -0.255551   \n",
       "\n",
       "   Previous Claims  Vehicle Age  Credit Score  Insurance Duration  \\\n",
       "0         1.190605     1.286338     -1.567243           -0.007023   \n",
       "\n",
       "   Premium Amount  Policy Duration Mins  Gender_Male  Marital Status_Married  \\\n",
       "0        1.730884             -1.301872        False                    True   \n",
       "\n",
       "   Marital Status_Single  Education Level_High School  \\\n",
       "0                  False                        False   \n",
       "\n",
       "   Education Level_Master's  Education Level_PhD  Occupation_Self-Employed  \\\n",
       "0                     False                False                      True   \n",
       "\n",
       "   Occupation_Unemployed  Location_Suburban  Location_Urban  \\\n",
       "0                  False              False            True   \n",
       "\n",
       "   Policy Type_Comprehensive  Policy Type_Premium  Customer Feedback_Good  \\\n",
       "0                      False                 True                   False   \n",
       "\n",
       "   Customer Feedback_Poor  Smoking Status_Yes  Exercise Frequency_Monthly  \\\n",
       "0                    True               False                       False   \n",
       "\n",
       "   Exercise Frequency_Rarely  Exercise Frequency_Weekly  Property Type_Condo  \\\n",
       "0                      False                       True                False   \n",
       "\n",
       "   Property Type_House  \n",
       "0                 True  "
      ]
     },
     "execution_count": 38,
     "metadata": {},
     "output_type": "execute_result"
    }
   ],
   "source": [
    "# Perform Z-score standardization for non-binary columns\n",
    "for col in non_binary_cols:\n",
    "    mean = linear_train_dataset[col].mean()\n",
    "    std = linear_train_dataset[col].std()\n",
    "    linear_train_dataset[col] = (linear_train_dataset[col] - mean) / std\n",
    "\n",
    "linear_train_dataset.head(1)"
   ]
  },
  {
   "cell_type": "markdown",
   "metadata": {},
   "source": [
    "### 1.3 saving dataset"
   ]
  },
  {
   "cell_type": "code",
   "execution_count": 39,
   "metadata": {},
   "outputs": [],
   "source": [
    "linear_train_dataset.to_csv('../data/04_standardized_preprocessed_dataset.csv')"
   ]
  },
  {
   "cell_type": "markdown",
   "metadata": {},
   "source": [
    "# 2. Preprocessing for tree-based models\n",
    "\n",
    "don't transform y\n",
    "\n",
    "apply nomalization"
   ]
  },
  {
   "cell_type": "code",
   "execution_count": 41,
   "metadata": {},
   "outputs": [],
   "source": [
    "tree_train_dataset = train_dataset.copy()"
   ]
  },
  {
   "cell_type": "markdown",
   "metadata": {},
   "source": [
    "### 2.1 Transform skewed distributions"
   ]
  },
  {
   "cell_type": "code",
   "execution_count": 43,
   "metadata": {},
   "outputs": [
    {
     "name": "stdout",
     "output_type": "stream",
     "text": [
      "Transformed Age 0 time(s). Final skew: -0.01\n",
      "Transformed Annual Income 3 time(s). Final skew: 0.01\n",
      "Transformed Number of Dependents 0 time(s). Final skew: -0.01\n",
      "Transformed Health Score 0 time(s). Final skew: 0.29\n",
      "Transformed Previous Claims 1 time(s). Final skew: -0.17\n",
      "Transformed Vehicle Age 0 time(s). Final skew: -0.02\n",
      "Transformed Credit Score 0 time(s). Final skew: -0.12\n",
      "Transformed Insurance Duration 0 time(s). Final skew: -0.01\n",
      "Transformed Policy Duration Mins 0 time(s). Final skew: -0.01\n"
     ]
    }
   ],
   "source": [
    "non_binary_cols = [col for col in tree_train_dataset.columns if tree_train_dataset[col].dtype != 'bool' and col != y_col]\n",
    "\n",
    "# Apply transformations iteratively until skew is within [-0.5, 0.5]\n",
    "for col in non_binary_cols:\n",
    "    max_iterations = 3  # Prevent excessive loops\n",
    "    iteration = 0\n",
    "\n",
    "    while iteration < max_iterations:\n",
    "        skew_value = skew(tree_train_dataset[col])\n",
    "        \n",
    "        if -0.5 <= skew_value <= 0.5:\n",
    "            break  # Stop if skew is already in range\n",
    "        \n",
    "        if skew_value > 0.5:\n",
    "            tree_train_dataset[col] = np.log1p(tree_train_dataset[col])  # Log transform for positive skew\n",
    "        elif skew_value < -0.5:\n",
    "            tree_train_dataset[col] = tree_train_dataset[col]**2  # Square for negative skew\n",
    "            \n",
    "        iteration += 1\n",
    "    \n",
    "    final_skew = skew(tree_train_dataset[col])\n",
    "    print(f\"Transformed {col} {iteration} time(s). Final skew: {final_skew:.2f}\")\n"
   ]
  },
  {
   "cell_type": "markdown",
   "metadata": {},
   "source": [
    "### 2.2 Normalizing features (scaling between [0,1] )"
   ]
  },
  {
   "cell_type": "code",
   "execution_count": 44,
   "metadata": {},
   "outputs": [
    {
     "data": {
      "text/html": [
       "<div>\n",
       "<style scoped>\n",
       "    .dataframe tbody tr th:only-of-type {\n",
       "        vertical-align: middle;\n",
       "    }\n",
       "\n",
       "    .dataframe tbody tr th {\n",
       "        vertical-align: top;\n",
       "    }\n",
       "\n",
       "    .dataframe thead th {\n",
       "        text-align: right;\n",
       "    }\n",
       "</style>\n",
       "<table border=\"1\" class=\"dataframe\">\n",
       "  <thead>\n",
       "    <tr style=\"text-align: right;\">\n",
       "      <th></th>\n",
       "      <th>Age</th>\n",
       "      <th>Annual Income</th>\n",
       "      <th>Number of Dependents</th>\n",
       "      <th>Health Score</th>\n",
       "      <th>Previous Claims</th>\n",
       "      <th>Vehicle Age</th>\n",
       "      <th>Credit Score</th>\n",
       "      <th>Insurance Duration</th>\n",
       "      <th>Premium Amount</th>\n",
       "      <th>Policy Duration Mins</th>\n",
       "      <th>Gender_Male</th>\n",
       "      <th>Marital Status_Married</th>\n",
       "      <th>Marital Status_Single</th>\n",
       "      <th>Education Level_High School</th>\n",
       "      <th>Education Level_Master's</th>\n",
       "      <th>Education Level_PhD</th>\n",
       "      <th>Occupation_Self-Employed</th>\n",
       "      <th>Occupation_Unemployed</th>\n",
       "      <th>Location_Suburban</th>\n",
       "      <th>Location_Urban</th>\n",
       "      <th>Policy Type_Comprehensive</th>\n",
       "      <th>Policy Type_Premium</th>\n",
       "      <th>Customer Feedback_Good</th>\n",
       "      <th>Customer Feedback_Poor</th>\n",
       "      <th>Smoking Status_Yes</th>\n",
       "      <th>Exercise Frequency_Monthly</th>\n",
       "      <th>Exercise Frequency_Rarely</th>\n",
       "      <th>Exercise Frequency_Weekly</th>\n",
       "      <th>Property Type_Condo</th>\n",
       "      <th>Property Type_House</th>\n",
       "    </tr>\n",
       "  </thead>\n",
       "  <tbody>\n",
       "    <tr>\n",
       "      <th>0</th>\n",
       "      <td>0.021739</td>\n",
       "      <td>0.315364</td>\n",
       "      <td>0.25</td>\n",
       "      <td>0.386282</td>\n",
       "      <td>0.682606</td>\n",
       "      <td>0.894737</td>\n",
       "      <td>0.117757</td>\n",
       "      <td>0.5</td>\n",
       "      <td>2869.0</td>\n",
       "      <td>0.120873</td>\n",
       "      <td>False</td>\n",
       "      <td>True</td>\n",
       "      <td>False</td>\n",
       "      <td>False</td>\n",
       "      <td>False</td>\n",
       "      <td>False</td>\n",
       "      <td>True</td>\n",
       "      <td>False</td>\n",
       "      <td>False</td>\n",
       "      <td>True</td>\n",
       "      <td>False</td>\n",
       "      <td>True</td>\n",
       "      <td>False</td>\n",
       "      <td>True</td>\n",
       "      <td>False</td>\n",
       "      <td>False</td>\n",
       "      <td>False</td>\n",
       "      <td>True</td>\n",
       "      <td>False</td>\n",
       "      <td>True</td>\n",
       "    </tr>\n",
       "  </tbody>\n",
       "</table>\n",
       "</div>"
      ],
      "text/plain": [
       "        Age  Annual Income  Number of Dependents  Health Score  \\\n",
       "0  0.021739       0.315364                  0.25      0.386282   \n",
       "\n",
       "   Previous Claims  Vehicle Age  Credit Score  Insurance Duration  \\\n",
       "0         0.682606     0.894737      0.117757                 0.5   \n",
       "\n",
       "   Premium Amount  Policy Duration Mins  Gender_Male  Marital Status_Married  \\\n",
       "0          2869.0              0.120873        False                    True   \n",
       "\n",
       "   Marital Status_Single  Education Level_High School  \\\n",
       "0                  False                        False   \n",
       "\n",
       "   Education Level_Master's  Education Level_PhD  Occupation_Self-Employed  \\\n",
       "0                     False                False                      True   \n",
       "\n",
       "   Occupation_Unemployed  Location_Suburban  Location_Urban  \\\n",
       "0                  False              False            True   \n",
       "\n",
       "   Policy Type_Comprehensive  Policy Type_Premium  Customer Feedback_Good  \\\n",
       "0                      False                 True                   False   \n",
       "\n",
       "   Customer Feedback_Poor  Smoking Status_Yes  Exercise Frequency_Monthly  \\\n",
       "0                    True               False                       False   \n",
       "\n",
       "   Exercise Frequency_Rarely  Exercise Frequency_Weekly  Property Type_Condo  \\\n",
       "0                      False                       True                False   \n",
       "\n",
       "   Property Type_House  \n",
       "0                 True  "
      ]
     },
     "execution_count": 44,
     "metadata": {},
     "output_type": "execute_result"
    }
   ],
   "source": [
    "# Perform Min-Max Normalization for non-binary columns\n",
    "for col in non_binary_cols:\n",
    "    min_val = tree_train_dataset[col].min()\n",
    "    max_val = tree_train_dataset[col].max()\n",
    "    tree_train_dataset[col] = (tree_train_dataset[col] - min_val) / (max_val - min_val)\n",
    "\n",
    "tree_train_dataset.head(1)\n"
   ]
  },
  {
   "cell_type": "markdown",
   "metadata": {},
   "source": [
    "### 2.3 Saving Dataset"
   ]
  },
  {
   "cell_type": "code",
   "execution_count": 45,
   "metadata": {},
   "outputs": [],
   "source": [
    "tree_train_dataset.to_csv('../data/04_normalized_preprocessed_dataset.csv')"
   ]
  }
 ],
 "metadata": {
  "kernelspec": {
   "display_name": ".venv",
   "language": "python",
   "name": "python3"
  },
  "language_info": {
   "codemirror_mode": {
    "name": "ipython",
    "version": 3
   },
   "file_extension": ".py",
   "mimetype": "text/x-python",
   "name": "python",
   "nbconvert_exporter": "python",
   "pygments_lexer": "ipython3",
   "version": "3.11.5"
  }
 },
 "nbformat": 4,
 "nbformat_minor": 2
}
