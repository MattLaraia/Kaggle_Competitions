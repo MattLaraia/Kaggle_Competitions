{
 "cells": [
  {
   "cell_type": "markdown",
   "metadata": {},
   "source": [
    "# Train Base Models\n",
    "\n",
    "### Purpose:\n",
    "\n",
    "Repeat NB 3 but use the one-hot encoded version of the dataset\n",
    "\n",
    "### Result:\n",
    "One hot encoding helped a decent amount, RMSLE 1.314 -> 1.16918\n",
    "\n",
    "BUT, median heuristic still outperforms with a score of 1.10815"
   ]
  },
  {
   "cell_type": "code",
   "execution_count": null,
   "metadata": {},
   "outputs": [],
   "source": [
    "%pip install -r ../../requirements.txt"
   ]
  },
  {
   "cell_type": "markdown",
   "metadata": {},
   "source": [
    "# load dataset"
   ]
  },
  {
   "cell_type": "code",
   "execution_count": 3,
   "metadata": {},
   "outputs": [],
   "source": [
    "base_dataset = pd.read_csv('../data/baseline_dataset_one_hot.csv')\n",
    "test_dataset = pd.read_csv('../data/raw_dataset/test.csv')"
   ]
  },
  {
   "cell_type": "code",
   "execution_count": 4,
   "metadata": {},
   "outputs": [],
   "source": [
    "import numpy as np\n",
    "from sklearn.model_selection import train_test_split\n",
    "from sklearn.metrics import mean_squared_error, mean_absolute_error, r2_score\n",
    "from sklearn.linear_model import LinearRegression, Ridge\n",
    "from sklearn.ensemble import RandomForestRegressor\n",
    "from sklearn.tree import DecisionTreeRegressor\n",
    "from sklearn.svm import SVR\n"
   ]
  },
  {
   "cell_type": "code",
   "execution_count": 5,
   "metadata": {},
   "outputs": [
    {
     "name": "stdout",
     "output_type": "stream",
     "text": [
      "begin Linear Regression training\n",
      "Linear Regression training complete\n",
      "begin Ridge Regression training\n",
      "Ridge Regression training complete\n",
      "begin Decision Tree training\n",
      "Decision Tree training complete\n"
     ]
    },
    {
     "data": {
      "text/html": [
       "<div>\n",
       "<style scoped>\n",
       "    .dataframe tbody tr th:only-of-type {\n",
       "        vertical-align: middle;\n",
       "    }\n",
       "\n",
       "    .dataframe tbody tr th {\n",
       "        vertical-align: top;\n",
       "    }\n",
       "\n",
       "    .dataframe thead th {\n",
       "        text-align: right;\n",
       "    }\n",
       "</style>\n",
       "<table border=\"1\" class=\"dataframe\">\n",
       "  <thead>\n",
       "    <tr style=\"text-align: right;\">\n",
       "      <th></th>\n",
       "      <th>Model</th>\n",
       "      <th>MSE</th>\n",
       "      <th>MAE</th>\n",
       "      <th>R^2</th>\n",
       "    </tr>\n",
       "  </thead>\n",
       "  <tbody>\n",
       "    <tr>\n",
       "      <th>1</th>\n",
       "      <td>Ridge Regression</td>\n",
       "      <td>7.514585e+05</td>\n",
       "      <td>671.019662</td>\n",
       "      <td>0.003282</td>\n",
       "    </tr>\n",
       "    <tr>\n",
       "      <th>0</th>\n",
       "      <td>Linear Regression</td>\n",
       "      <td>7.514585e+05</td>\n",
       "      <td>671.019662</td>\n",
       "      <td>0.003282</td>\n",
       "    </tr>\n",
       "    <tr>\n",
       "      <th>2</th>\n",
       "      <td>Decision Tree</td>\n",
       "      <td>1.522074e+06</td>\n",
       "      <td>897.565982</td>\n",
       "      <td>-1.018846</td>\n",
       "    </tr>\n",
       "  </tbody>\n",
       "</table>\n",
       "</div>"
      ],
      "text/plain": [
       "               Model           MSE         MAE       R^2\n",
       "1   Ridge Regression  7.514585e+05  671.019662  0.003282\n",
       "0  Linear Regression  7.514585e+05  671.019662  0.003282\n",
       "2      Decision Tree  1.522074e+06  897.565982 -1.018846"
      ]
     },
     "execution_count": 5,
     "metadata": {},
     "output_type": "execute_result"
    }
   ],
   "source": [
    "# Explicitly define the target column\n",
    "target_column = 'Premium Amount'\n",
    "\n",
    "# Separate features (X) and target (y)\n",
    "X = base_dataset.drop(columns=[target_column])\n",
    "y = base_dataset[target_column]\n",
    "\n",
    "# Train-test split\n",
    "X_train, X_test, y_train, y_test = train_test_split(X, y, test_size=0.2, random_state=42)\n",
    "\n",
    "# Define baseline models\n",
    "models = {\n",
    "    \"Linear Regression\": LinearRegression(),\n",
    "    \"Ridge Regression\": Ridge(),\n",
    "    \"Decision Tree\": DecisionTreeRegressor(),\n",
    "    # \"Random Forest\": RandomForestRegressor(n_estimators=100),\n",
    "    # \"Support Vector Regressor\": SVR()\n",
    "}\n",
    "\n",
    "# Train and evaluate each model\n",
    "results = []\n",
    "\n",
    "for name, model in models.items():\n",
    "    print(f\"begin {name} training\")\n",
    "    # Train the model\n",
    "    model.fit(X_train, y_train)\n",
    "    \n",
    "    # Make predictions\n",
    "    y_pred = model.predict(X_test)\n",
    "    \n",
    "    # Evaluate performance\n",
    "    mse = mean_squared_error(y_test, y_pred)\n",
    "    mae = mean_absolute_error(y_test, y_pred)\n",
    "    r2 = r2_score(y_test, y_pred)\n",
    "    \n",
    "    # Store results\n",
    "    results.append({\n",
    "        \"Model\": name,\n",
    "        \"MSE\": mse,\n",
    "        \"MAE\": mae,\n",
    "        \"R^2\": r2\n",
    "    })\n",
    "    print(f\"{name} training complete\")\n",
    "\n",
    "    \n",
    "\n",
    "# Display results\n",
    "results_df = pd.DataFrame(results).sort_values(by=\"R^2\", ascending=False)\n",
    "results_df"
   ]
  },
  {
   "cell_type": "code",
   "execution_count": 7,
   "metadata": {},
   "outputs": [],
   "source": [
    "#minimally process the test dataset to get model predictions\n",
    "\n",
    "#convert the policy start time to duration in mins\n",
    "test_dataset['Policy Start Date'] = pd.to_datetime(test_dataset['Policy Start Date'])\n",
    "test_dataset['Policy Duration Mins'] = ((pd.Timestamp.now() - test_dataset['Policy Start Date']).dt.total_seconds())/60\n",
    "test_dataset = test_dataset.drop(columns=['Policy Start Date'])\n",
    "\n",
    "#do label encoding\n",
    "categorical_cols = [test_dataset.columns[i] for i, x in enumerate(test_dataset.dtypes) if x == 'object']\n",
    "test_dataset[categorical_cols] = test_dataset[categorical_cols].astype('category')\n",
    "# Convert categorical to one hot encodings\n",
    "test_dataset = pd.get_dummies(test_dataset, drop_first=True)\n",
    "#fill nulls with median values\n",
    "test_dataset = test_dataset.fillna(test_dataset.median())\n",
    "\n",
    "\n",
    "features = test_dataset.iloc[:,1:]"
   ]
  },
  {
   "cell_type": "code",
   "execution_count": 9,
   "metadata": {},
   "outputs": [
    {
     "name": "stdout",
     "output_type": "stream",
     "text": [
      "Competition Name: playground-series-s4e12\n",
      "Full Submission File Path: ../results\\Linear Regression_baseline_one_hot.csv\n"
     ]
    },
    {
     "name": "stderr",
     "output_type": "stream",
     "text": [
      "100%|██████████| 21.2M/21.2M [00:18<00:00, 1.19MB/s]\n"
     ]
    },
    {
     "name": "stdout",
     "output_type": "stream",
     "text": [
      "Submission to 'playground-series-s4e12' successful!\n",
      "Competition Name: playground-series-s4e12\n",
      "Full Submission File Path: ../results\\Ridge Regression_baseline_one_hot.csv\n"
     ]
    },
    {
     "name": "stderr",
     "output_type": "stream",
     "text": [
      "100%|██████████| 21.2M/21.2M [00:23<00:00, 938kB/s] \n"
     ]
    },
    {
     "name": "stdout",
     "output_type": "stream",
     "text": [
      "Submission to 'playground-series-s4e12' successful!\n",
      "Competition Name: playground-series-s4e12\n",
      "Full Submission File Path: ../results\\Decision Tree_baseline_one_hot.csv\n"
     ]
    },
    {
     "name": "stderr",
     "output_type": "stream",
     "text": [
      "100%|██████████| 11.7M/11.7M [00:10<00:00, 1.16MB/s]\n"
     ]
    },
    {
     "name": "stdout",
     "output_type": "stream",
     "text": [
      "Error during submission: (400)\n",
      "Reason: Bad Request\n",
      "HTTP response headers: HTTPHeaderDict({'Content-Type': 'application/json', 'Date': 'Fri, 20 Dec 2024 21:23:12 GMT', 'Access-Control-Allow-Credentials': 'true', 'Access-Control-Allow-Origin': '*', 'Set-Cookie': 'ka_sessionid=8280b94f9f57a2bbcc6ae8833076ad2f; max-age=2626560; path=/, GCLB=CPPr3eeR9a2pShAD; path=/; HttpOnly', 'Vary': 'Accept-Encoding', 'X-Kaggle-MillisecondsElapsed': '81', 'X-Kaggle-RequestId': '76e67705afce2c0954954273039ebdcf', 'X-Kaggle-ApiVersion': '1.6.17', 'X-Kaggle-HubVersion': '0.3.6', 'X-Frame-Options': 'SAMEORIGIN', 'Strict-Transport-Security': 'max-age=63072000; includeSubDomains; preload', 'Content-Security-Policy': \"object-src 'none'; script-src 'nonce-m/bUG9ngxI+m2DTFWdx2Hg==' 'report-sample' 'unsafe-inline' 'unsafe-eval' 'strict-dynamic' https: http:; base-uri 'none'; report-uri https://csp.withgoogle.com/csp/kaggle/20201130; frame-src 'self' https://www.kaggleusercontent.com https://www.youtube.com/embed/ https://polygraph-cool.github.io https://www.google.com/recaptcha/ https://www.docdroid.com https://www.docdroid.net https://kaggle-static.storage.googleapis.com https://kkb-production.jupyter-proxy.kaggle.net https://kkb-production.firebaseapp.com https://kaggle-metastore.firebaseapp.com https://apis.google.com https://content-sheets.googleapis.com/ https://accounts.google.com/ https://storage.googleapis.com https://docs.google.com https://drive.google.com https://calendar.google.com/ https://google.qualtrics.com/ ;\", 'X-Content-Type-Options': 'nosniff', 'Referrer-Policy': 'strict-origin-when-cross-origin', 'Via': '1.1 google', 'Alt-Svc': 'h3=\":443\"; ma=2592000,h3-29=\":443\"; ma=2592000', 'Transfer-Encoding': 'chunked'})\n",
      "HTTP response body: {\"code\":400,\"message\":\"Submission not allowed:  Your team has used its daily Submission allowance (5) today, please try again tomorrow UTC (2.6 hours from now).\"}\n",
      "\n"
     ]
    }
   ],
   "source": [
    "#generate results and submit to competition\n",
    "results_directory = \"../results\"\n",
    "\n",
    "for name, model in models.items():\n",
    "    \n",
    "    y_pred = model.predict(features)\n",
    "\n",
    "    results = pd.DataFrame({\n",
    "        'id': test_dataset['id'],  \n",
    "        'Premium Amount': y_pred   \n",
    "    })\n",
    "\n",
    "    filename = f\"{name}_baseline_one_hot.csv\"\n",
    "    results_full_path = os.path.join(results_directory,filename)\n",
    "    \n",
    "    results.to_csv(results_full_path, index=False)\n",
    "\n",
    "    submission_comment = f\"baseline: {name} + minimally processed one-hot encoded dataset\"\n",
    "    submit(filename,submission_comment) #custom function\n",
    "    # print(f\"successfully submitted baseline {name}\")\n"
   ]
  }
 ],
 "metadata": {
  "kernelspec": {
   "display_name": ".venv",
   "language": "python",
   "name": "python3"
  },
  "language_info": {
   "codemirror_mode": {
    "name": "ipython",
    "version": 3
   },
   "file_extension": ".py",
   "mimetype": "text/x-python",
   "name": "python",
   "nbconvert_exporter": "python",
   "pygments_lexer": "ipython3",
   "version": "3.11.5"
  }
 },
 "nbformat": 4,
 "nbformat_minor": 2
}
