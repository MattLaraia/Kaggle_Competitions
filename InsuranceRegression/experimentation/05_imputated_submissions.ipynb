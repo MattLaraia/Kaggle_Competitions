{
 "cells": [
  {
   "cell_type": "markdown",
   "metadata": {},
   "source": [
    "# Training on imputated datasets\n",
    "\n",
    "Purpose: The goal of this notebook is to retrain the baseline models on the full dataset with 2 versions of imputated data:\n",
    "\n",
    "1. nulls filled by median \n",
    "2. nulls filled by median after clipping outliers "
   ]
  },
  {
   "cell_type": "markdown",
   "metadata": {},
   "source": [
    "## 0. imports/config values"
   ]
  },
  {
   "cell_type": "code",
   "execution_count": 1,
   "metadata": {},
   "outputs": [],
   "source": [
    "from sklearn.model_selection import train_test_split\n",
    "from sklearn.metrics import mean_squared_error, mean_absolute_error, r2_score\n",
    "from sklearn.linear_model import LinearRegression, Ridge\n",
    "from sklearn.tree import DecisionTreeRegressor\n",
    "\n",
    "\n",
    "# Explicitly define the target column\n",
    "target_column = 'Premium Amount'\n",
    "\n",
    "test_data = pd.read_csv(\"../data/raw_dataset/test.csv\")"
   ]
  },
  {
   "cell_type": "markdown",
   "metadata": {},
   "source": [
    "## 1. nulls filled by median values\n",
    "\n",
    "For this we will experiment again with the stratified split dataset along with the basic train-test split"
   ]
  },
  {
   "cell_type": "markdown",
   "metadata": {},
   "source": [
    "### 1.1 basic train split"
   ]
  },
  {
   "cell_type": "code",
   "execution_count": 1,
   "metadata": {},
   "outputs": [],
   "source": [
    "base_dataset = pd.read_csv(\"../data/03_imputation_median.csv\")"
   ]
  },
  {
   "cell_type": "code",
   "execution_count": 7,
   "metadata": {},
   "outputs": [
    {
     "name": "stdout",
     "output_type": "stream",
     "text": [
      "begin Linear Regression training\n",
      "Linear Regression training complete\n",
      "begin Ridge Regression training\n",
      "Ridge Regression training complete\n",
      "begin Decision Tree training\n",
      "Decision Tree training complete\n"
     ]
    },
    {
     "data": {
      "text/html": [
       "<div>\n",
       "<style scoped>\n",
       "    .dataframe tbody tr th:only-of-type {\n",
       "        vertical-align: middle;\n",
       "    }\n",
       "\n",
       "    .dataframe tbody tr th {\n",
       "        vertical-align: top;\n",
       "    }\n",
       "\n",
       "    .dataframe thead th {\n",
       "        text-align: right;\n",
       "    }\n",
       "</style>\n",
       "<table border=\"1\" class=\"dataframe\">\n",
       "  <thead>\n",
       "    <tr style=\"text-align: right;\">\n",
       "      <th></th>\n",
       "      <th>Model</th>\n",
       "      <th>MSE</th>\n",
       "      <th>MAE</th>\n",
       "      <th>R^2</th>\n",
       "    </tr>\n",
       "  </thead>\n",
       "  <tbody>\n",
       "    <tr>\n",
       "      <th>1</th>\n",
       "      <td>Ridge Regression</td>\n",
       "      <td>7.452472e+05</td>\n",
       "      <td>667.274782</td>\n",
       "      <td>0.002728</td>\n",
       "    </tr>\n",
       "    <tr>\n",
       "      <th>0</th>\n",
       "      <td>Linear Regression</td>\n",
       "      <td>7.452472e+05</td>\n",
       "      <td>667.274782</td>\n",
       "      <td>0.002728</td>\n",
       "    </tr>\n",
       "    <tr>\n",
       "      <th>2</th>\n",
       "      <td>Decision Tree</td>\n",
       "      <td>1.520630e+06</td>\n",
       "      <td>896.447588</td>\n",
       "      <td>-1.034871</td>\n",
       "    </tr>\n",
       "  </tbody>\n",
       "</table>\n",
       "</div>"
      ],
      "text/plain": [
       "               Model           MSE         MAE       R^2\n",
       "1   Ridge Regression  7.452472e+05  667.274782  0.002728\n",
       "0  Linear Regression  7.452472e+05  667.274782  0.002728\n",
       "2      Decision Tree  1.520630e+06  896.447588 -1.034871"
      ]
     },
     "execution_count": 7,
     "metadata": {},
     "output_type": "execute_result"
    }
   ],
   "source": [
    "# Separate features (X) and target (y)\n",
    "X = base_dataset.drop(columns=[target_column])\n",
    "y = base_dataset[target_column]\n",
    "\n",
    "# Train-test split\n",
    "X_train, X_test, y_train, y_test = train_test_split(X, y, test_size=0.2, random_state=42)\n",
    "\n",
    "# Define baseline unstratified_models\n",
    "unstratified_models = {\n",
    "    \"Linear Regression\": LinearRegression(),\n",
    "    \"Ridge Regression\": Ridge(),\n",
    "    \"Decision Tree\": DecisionTreeRegressor()\n",
    "}\n",
    "\n",
    "# Train and evaluate each model\n",
    "unstratified_results = []\n",
    "\n",
    "for name, model in unstratified_models.items():\n",
    "    print(f\"begin {name} training\")\n",
    "    # Train the model\n",
    "    model.fit(X_train, y_train)\n",
    "    \n",
    "    # Make predictions\n",
    "    y_pred = model.predict(X_test)\n",
    "    \n",
    "    # Evaluate performance\n",
    "    mse = mean_squared_error(y_test, y_pred)\n",
    "    mae = mean_absolute_error(y_test, y_pred)\n",
    "    r2 = r2_score(y_test, y_pred)\n",
    "    \n",
    "    # Store unstratified_results\n",
    "    unstratified_results.append({\n",
    "        \"Model\": name,\n",
    "        \"MSE\": mse,\n",
    "        \"MAE\": mae,\n",
    "        \"R^2\": r2\n",
    "    })\n",
    "    print(f\"{name} training complete\")\n",
    "\n",
    "    \n",
    "\n",
    "# Display unstratified_results\n",
    "unstratified_results_df = pd.DataFrame(unstratified_results).sort_values(by=\"R^2\", ascending=False)\n",
    "unstratified_results_df"
   ]
  },
  {
   "cell_type": "markdown",
   "metadata": {},
   "source": [
    "### 1.2 stratified split\n",
    "stratified split yields better validation results, and is likely better to use."
   ]
  },
  {
   "cell_type": "code",
   "execution_count": null,
   "metadata": {},
   "outputs": [
    {
     "name": "stdout",
     "output_type": "stream",
     "text": [
      "begin Linear Regression training\n",
      "Linear Regression training complete\n",
      "begin Ridge Regression training\n",
      "Ridge Regression training complete\n",
      "begin Decision Tree training\n",
      "Decision Tree training complete\n"
     ]
    },
    {
     "data": {
      "text/html": [
       "<div>\n",
       "<style scoped>\n",
       "    .dataframe tbody tr th:only-of-type {\n",
       "        vertical-align: middle;\n",
       "    }\n",
       "\n",
       "    .dataframe tbody tr th {\n",
       "        vertical-align: top;\n",
       "    }\n",
       "\n",
       "    .dataframe thead th {\n",
       "        text-align: right;\n",
       "    }\n",
       "</style>\n",
       "<table border=\"1\" class=\"dataframe\">\n",
       "  <thead>\n",
       "    <tr style=\"text-align: right;\">\n",
       "      <th></th>\n",
       "      <th>Model</th>\n",
       "      <th>MSE</th>\n",
       "      <th>MAE</th>\n",
       "      <th>R^2</th>\n",
       "    </tr>\n",
       "  </thead>\n",
       "  <tbody>\n",
       "    <tr>\n",
       "      <th>0</th>\n",
       "      <td>Linear Regression</td>\n",
       "      <td>7.442170e+05</td>\n",
       "      <td>667.146285</td>\n",
       "      <td>0.002990</td>\n",
       "    </tr>\n",
       "    <tr>\n",
       "      <th>1</th>\n",
       "      <td>Ridge Regression</td>\n",
       "      <td>7.442170e+05</td>\n",
       "      <td>667.146286</td>\n",
       "      <td>0.002990</td>\n",
       "    </tr>\n",
       "    <tr>\n",
       "      <th>2</th>\n",
       "      <td>Decision Tree</td>\n",
       "      <td>1.518349e+06</td>\n",
       "      <td>894.944854</td>\n",
       "      <td>-1.034096</td>\n",
       "    </tr>\n",
       "  </tbody>\n",
       "</table>\n",
       "</div>"
      ],
      "text/plain": [
       "               Model           MSE         MAE       R^2\n",
       "0  Linear Regression  7.442170e+05  667.146285  0.002990\n",
       "1   Ridge Regression  7.442170e+05  667.146286  0.002990\n",
       "2      Decision Tree  1.518349e+06  894.944854 -1.034096"
      ]
     },
     "execution_count": 8,
     "metadata": {},
     "output_type": "execute_result"
    }
   ],
   "source": [
    "# Bin the target variable\n",
    "n_bins = 20\n",
    "bin_col = \"y_bin\"\n",
    "y_binned = pd.qcut(y, q=n_bins, duplicates='drop', labels=False)\n",
    "X[bin_col] = y_binned\n",
    "\n",
    "# Train-test split\n",
    "X_train, X_test, y_train, y_test = train_test_split(X, y, test_size=0.2, random_state=42, stratify= X[\"y_bin\"])\n",
    "\n",
    "#remove the stratification column\n",
    "X_test = X_test.drop(columns=[bin_col])\n",
    "X_train = X_train.drop(columns=[bin_col])\n",
    "\n",
    "# Define baseline stratified_models\n",
    "stratified_models = {\n",
    "    \"Linear Regression\": LinearRegression(),\n",
    "    \"Ridge Regression\": Ridge(),\n",
    "    \"Decision Tree\": DecisionTreeRegressor(),\n",
    "}\n",
    "\n",
    "# Train and evaluate each model\n",
    "stratified_results = []\n",
    "\n",
    "for name, model in stratified_models.items():\n",
    "    print(f\"begin {name} training\")\n",
    "    # Train the model\n",
    "    model.fit(X_train, y_train)\n",
    "    \n",
    "    # Make predictions\n",
    "    y_pred = model.predict(X_test)\n",
    "    \n",
    "    # Evaluate performance\n",
    "    mse = mean_squared_error(y_test, y_pred)\n",
    "    mae = mean_absolute_error(y_test, y_pred)\n",
    "    r2 = r2_score(y_test, y_pred)\n",
    "    \n",
    "    # Store stratified_results\n",
    "    stratified_results.append({\n",
    "        \"Model\": name,\n",
    "        \"MSE\": mse,\n",
    "        \"MAE\": mae,\n",
    "        \"R^2\": r2\n",
    "    })\n",
    "    print(f\"{name} training complete\")\n",
    "\n",
    "    \n",
    "\n",
    "# Display stratified_results\n",
    "stratified_results_df = pd.DataFrame(stratified_results).sort_values(by=\"R^2\", ascending=False)\n",
    "stratified_results_df"
   ]
  },
  {
   "cell_type": "markdown",
   "metadata": {},
   "source": [
    "### 1.3 No test set\n",
    "Realistically, whenever we find a solution that performs well on the validation set(s), we then should retrain without any split and submit that version"
   ]
  },
  {
   "cell_type": "code",
   "execution_count": 10,
   "metadata": {},
   "outputs": [
    {
     "name": "stdout",
     "output_type": "stream",
     "text": [
      "begin Linear Regression training\n"
     ]
    }
   ],
   "source": [
    "# Separate features (X) and target (y)\n",
    "X = base_dataset.drop(columns=[target_column])\n",
    "y = base_dataset[target_column]\n",
    "\n",
    "# Define baseline full_models\n",
    "full_models = {\n",
    "    \"Linear Regression\": LinearRegression(),\n",
    "}\n",
    "\n",
    "# Train and evaluate each model\n",
    "full_results = []\n",
    "\n",
    "for name, model in full_models.items():\n",
    "    print(f\"begin {name} training\")\n",
    "    # Train the model\n",
    "    model.fit(X, y)\n"
   ]
  },
  {
   "cell_type": "markdown",
   "metadata": {},
   "source": [
    "### 1.4 Submitting results\n",
    "\n",
    "Since the competition is limited to 5 submissions a day, I'll use the top performers of the two training versions (both linear regression) and submit it"
   ]
  },
  {
   "cell_type": "markdown",
   "metadata": {},
   "source": [
    "#### 1.4.1 prepare test set"
   ]
  },
  {
   "cell_type": "code",
   "execution_count": 13,
   "metadata": {},
   "outputs": [],
   "source": [
    "median_test = test_data.copy()\n",
    "\n",
    "\n",
    "#minimally process the test dataset to get model predictions\n",
    "\n",
    "#convert the policy start time to duration in mins\n",
    "median_test['Policy Start Date'] = pd.to_datetime(median_test['Policy Start Date'])\n",
    "median_test['Policy Duration Mins'] = ((pd.Timestamp.now() - median_test['Policy Start Date']).dt.total_seconds())/60\n",
    "median_test = median_test.drop(columns=['Policy Start Date'])\n",
    "\n",
    "#do label encoding\n",
    "categorical_cols = [median_test.columns[i] for i, x in enumerate(median_test.dtypes) if x == 'object']\n",
    "median_test[categorical_cols] = median_test[categorical_cols].astype('category')\n",
    "# Convert categorical to one hot encodings\n",
    "median_test = pd.get_dummies(median_test, drop_first=True)\n",
    "#fill nulls with median values\n",
    "median_test = median_test.fillna(median_test.median())\n",
    "\n",
    "\n",
    "features = median_test.iloc[:,1:]\n"
   ]
  },
  {
   "cell_type": "markdown",
   "metadata": {},
   "source": [
    "#### 1.4.2 submit to competition"
   ]
  },
  {
   "cell_type": "code",
   "execution_count": 14,
   "metadata": {},
   "outputs": [
    {
     "name": "stdout",
     "output_type": "stream",
     "text": [
      "Competition Name: playground-series-s4e12\n",
      "Full Submission File Path: ../results\\Linear Regression_median_imputation.csv\n"
     ]
    },
    {
     "name": "stderr",
     "output_type": "stream",
     "text": [
      "100%|██████████| 21.2M/21.2M [00:09<00:00, 2.33MB/s]\n"
     ]
    },
    {
     "name": "stdout",
     "output_type": "stream",
     "text": [
      "Submission to 'playground-series-s4e12' successful!\n",
      "submission result: Successfully submitted to Regression with an Insurance Dataset\n"
     ]
    }
   ],
   "source": [
    "#generate results and submit to competition\n",
    "results_directory = \"../results\"\n",
    "\n",
    "for name, model in full_models.items():\n",
    "    \n",
    "    y_pred = model.predict(median_features)\n",
    "\n",
    "    results = pd.DataFrame({\n",
    "        'id': median_test['id'],  \n",
    "        'Premium Amount': y_pred   \n",
    "    })\n",
    "\n",
    "    filename = f\"{name}_median_imputation.csv\"\n",
    "    results_full_path = os.path.join(results_directory,filename)\n",
    "    \n",
    "    results.to_csv(results_full_path, index=False)\n",
    "\n",
    "    submission_comment = f\"{name} with median imputed values\"\n",
    "    submit(filename,submission_comment) "
   ]
  },
  {
   "cell_type": "markdown",
   "metadata": {},
   "source": [
    "## 2. Nulls filled by median values after clipping"
   ]
  },
  {
   "cell_type": "code",
   "execution_count": 3,
   "metadata": {},
   "outputs": [],
   "source": [
    "clipped_dataset = pd.read_csv(\"../data/03_imputation_clipped_mean.csv\")"
   ]
  },
  {
   "cell_type": "markdown",
   "metadata": {},
   "source": [
    "### 2.1 Train (using stratified split)"
   ]
  },
  {
   "cell_type": "code",
   "execution_count": 34,
   "metadata": {},
   "outputs": [
    {
     "name": "stdout",
     "output_type": "stream",
     "text": [
      "begin Linear Regression training\n",
      "Linear Regression training complete\n",
      "begin Ridge Regression training\n",
      "Ridge Regression training complete\n",
      "begin Decision Tree training\n",
      "Decision Tree training complete\n"
     ]
    },
    {
     "data": {
      "text/html": [
       "<div>\n",
       "<style scoped>\n",
       "    .dataframe tbody tr th:only-of-type {\n",
       "        vertical-align: middle;\n",
       "    }\n",
       "\n",
       "    .dataframe tbody tr th {\n",
       "        vertical-align: top;\n",
       "    }\n",
       "\n",
       "    .dataframe thead th {\n",
       "        text-align: right;\n",
       "    }\n",
       "</style>\n",
       "<table border=\"1\" class=\"dataframe\">\n",
       "  <thead>\n",
       "    <tr style=\"text-align: right;\">\n",
       "      <th></th>\n",
       "      <th>Model</th>\n",
       "      <th>MSE</th>\n",
       "      <th>MAE</th>\n",
       "      <th>R^2</th>\n",
       "    </tr>\n",
       "  </thead>\n",
       "  <tbody>\n",
       "    <tr>\n",
       "      <th>0</th>\n",
       "      <td>Linear Regression</td>\n",
       "      <td>7.441380e+05</td>\n",
       "      <td>667.085915</td>\n",
       "      <td>0.003096</td>\n",
       "    </tr>\n",
       "    <tr>\n",
       "      <th>1</th>\n",
       "      <td>Ridge Regression</td>\n",
       "      <td>7.441380e+05</td>\n",
       "      <td>667.085916</td>\n",
       "      <td>0.003096</td>\n",
       "    </tr>\n",
       "    <tr>\n",
       "      <th>2</th>\n",
       "      <td>Decision Tree</td>\n",
       "      <td>1.519755e+06</td>\n",
       "      <td>896.557454</td>\n",
       "      <td>-1.035980</td>\n",
       "    </tr>\n",
       "  </tbody>\n",
       "</table>\n",
       "</div>"
      ],
      "text/plain": [
       "               Model           MSE         MAE       R^2\n",
       "0  Linear Regression  7.441380e+05  667.085915  0.003096\n",
       "1   Ridge Regression  7.441380e+05  667.085916  0.003096\n",
       "2      Decision Tree  1.519755e+06  896.557454 -1.035980"
      ]
     },
     "execution_count": 34,
     "metadata": {},
     "output_type": "execute_result"
    }
   ],
   "source": [
    "# Separate features (X) and target (y)\n",
    "X = clipped_dataset.drop(columns=[target_column])\n",
    "y = clipped_dataset[target_column]\n",
    "\n",
    "# Bin the target variable\n",
    "n_bins = 20\n",
    "bin_col = \"y_bin\"\n",
    "y_binned = pd.qcut(y, q=n_bins, duplicates='drop', labels=False)\n",
    "X[bin_col] = y_binned\n",
    "\n",
    "# Train-test split\n",
    "X_train, X_test, y_train, y_test = train_test_split(X, y, test_size=0.2, random_state=42, stratify= X[\"y_bin\"])\n",
    "\n",
    "#remove the stratification column\n",
    "X_test = X_test.drop(columns=[bin_col])\n",
    "X_train = X_train.drop(columns=[bin_col])\n",
    "\n",
    "# Define baseline stratified_models\n",
    "stratified_models = {\n",
    "    \"Linear Regression\": LinearRegression(),\n",
    "    \"Ridge Regression\": Ridge(),\n",
    "    \"Decision Tree\": DecisionTreeRegressor(),\n",
    "}\n",
    "\n",
    "# Train and evaluate each model\n",
    "stratified_results = []\n",
    "\n",
    "for name, model in stratified_models.items():\n",
    "    print(f\"begin {name} training\")\n",
    "    # Train the model\n",
    "    model.fit(X_train, y_train)\n",
    "    \n",
    "    # Make predictions\n",
    "    y_pred = model.predict(X_test)\n",
    "    \n",
    "    # Evaluate performance\n",
    "    mse = mean_squared_error(y_test, y_pred)\n",
    "    mae = mean_absolute_error(y_test, y_pred)\n",
    "    r2 = r2_score(y_test, y_pred)\n",
    "    \n",
    "    # Store stratified_results\n",
    "    stratified_results.append({\n",
    "        \"Model\": name,\n",
    "        \"MSE\": mse,\n",
    "        \"MAE\": mae,\n",
    "        \"R^2\": r2\n",
    "    })\n",
    "    print(f\"{name} training complete\")\n",
    "\n",
    "\n",
    "# Display stratified_results\n",
    "stratified_results_df = pd.DataFrame(stratified_results).sort_values(by=\"R^2\", ascending=False)\n",
    "stratified_results_df"
   ]
  },
  {
   "cell_type": "markdown",
   "metadata": {},
   "source": [
    "### 2.2 Retraining on full dataset"
   ]
  },
  {
   "cell_type": "code",
   "execution_count": 4,
   "metadata": {},
   "outputs": [
    {
     "name": "stdout",
     "output_type": "stream",
     "text": [
      "begin Linear Regression training\n"
     ]
    }
   ],
   "source": [
    "# Separate features (X) and target (y)\n",
    "X = clipped_dataset.drop(columns=[target_column])\n",
    "y = clipped_dataset[target_column]\n",
    "\n",
    "# Define baseline full_models\n",
    "full_models = {\n",
    "    \"Linear Regression\": LinearRegression(),\n",
    "}\n",
    "\n",
    "# Train and evaluate each model\n",
    "full_results = []\n",
    "\n",
    "for name, model in full_models.items():\n",
    "    print(f\"begin {name} training\")\n",
    "    # Train the model\n",
    "    model.fit(X, y)\n"
   ]
  },
  {
   "cell_type": "markdown",
   "metadata": {},
   "source": [
    "### 2.3 submission"
   ]
  },
  {
   "cell_type": "markdown",
   "metadata": {},
   "source": [
    "#### 2.3.1 prepare test set"
   ]
  },
  {
   "cell_type": "code",
   "execution_count": 2,
   "metadata": {},
   "outputs": [],
   "source": [
    "mean_test = test_data.copy()\n",
    "\n",
    "\n",
    "#minimally process the test dataset to get model predictions\n",
    "\n",
    "#convert the policy start time to duration in mins\n",
    "mean_test['Policy Start Date'] = pd.to_datetime(mean_test['Policy Start Date'])\n",
    "mean_test['Policy Duration Mins'] = ((pd.Timestamp.now() - mean_test['Policy Start Date']).dt.total_seconds())/60\n",
    "mean_test = mean_test.drop(columns=['Policy Start Date'])\n",
    "\n",
    "#do label encoding\n",
    "categorical_cols = [mean_test.columns[i] for i, x in enumerate(mean_test.dtypes) if x == 'object']\n",
    "mean_test[categorical_cols] = mean_test[categorical_cols].astype('category')\n",
    "# Convert categorical to one hot encodings\n",
    "mean_test = pd.get_dummies(mean_test, drop_first=True)\n",
    "#fill nulls with median values\n",
    "mean_test = mean_test.fillna(mean_test.mean())\n",
    "\n",
    "\n",
    "mean_features = mean_test.iloc[:,1:]\n",
    "\n"
   ]
  },
  {
   "cell_type": "markdown",
   "metadata": {},
   "source": [
    "#### 2.3.2 submit to competition"
   ]
  },
  {
   "cell_type": "code",
   "execution_count": 6,
   "metadata": {},
   "outputs": [
    {
     "name": "stdout",
     "output_type": "stream",
     "text": [
      "Competition Name: playground-series-s4e12\n",
      "Full Submission File Path: ../results\\Linear Regression_mean_imputation.csv\n"
     ]
    },
    {
     "name": "stderr",
     "output_type": "stream",
     "text": [
      "100%|██████████| 21.2M/21.2M [00:21<00:00, 1.03MB/s]\n"
     ]
    },
    {
     "name": "stdout",
     "output_type": "stream",
     "text": [
      "Submission to 'playground-series-s4e12' successful!\n",
      "submission score: None\n"
     ]
    }
   ],
   "source": [
    "#generate results and submit to competition\n",
    "results_directory = \"../results\"\n",
    "\n",
    "for name, model in full_models.items():\n",
    "    \n",
    "    y_pred = model.predict(mean_features)\n",
    "\n",
    "    results = pd.DataFrame({\n",
    "        'id': mean_test['id'],  \n",
    "        'Premium Amount': y_pred   \n",
    "    })\n",
    "\n",
    "    filename = f\"{name}_mean_imputation.csv\"\n",
    "    results_full_path = os.path.join(results_directory,filename)\n",
    "    \n",
    "    results.to_csv(results_full_path, index=False)\n",
    "\n",
    "    submission_comment = f\"{name} with clipping and mean imputed values\"\n",
    "    submit(filename,submission_comment) "
   ]
  }
 ],
 "metadata": {
  "kernelspec": {
   "display_name": ".venv",
   "language": "python",
   "name": "python3"
  },
  "language_info": {
   "codemirror_mode": {
    "name": "ipython",
    "version": 3
   },
   "file_extension": ".py",
   "mimetype": "text/x-python",
   "name": "python",
   "nbconvert_exporter": "python",
   "pygments_lexer": "ipython3",
   "version": "3.11.5"
  }
 },
 "nbformat": 4,
 "nbformat_minor": 2
}
