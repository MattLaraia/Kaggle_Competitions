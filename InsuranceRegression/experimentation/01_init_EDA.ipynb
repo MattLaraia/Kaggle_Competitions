{
 "cells": [
  {
   "cell_type": "markdown",
   "metadata": {},
   "source": [
    "# Init EDA\n",
    "\n",
    "purpose of NB: try to understand the data itself\n",
    "\n",
    "Determine a plan of attack for a baseline approach + next steps on how to clean the dataset and then get into feature engineering\n"
   ]
  },
  {
   "cell_type": "code",
   "execution_count": 1,
   "metadata": {},
   "outputs": [
    {
     "name": "stdout",
     "output_type": "stream",
     "text": [
      "c:\\Users\\mlar5\\OneDrive\\Desktop\\Code Folder Undergrad\\Python Projects\\IRL projects\\Kaggle\\Insurance_Regression\n",
      "Collecting pandas==2.0.3 (from -r requirements.txt (line 1))\n",
      "  Obtaining dependency information for pandas==2.0.3 from https://files.pythonhosted.org/packages/9e/71/756a1be6bee0209d8c0d8c5e3b9fc72c00373f384a4017095ec404aec3ad/pandas-2.0.3-cp311-cp311-win_amd64.whl.metadata\n",
      "  Downloading pandas-2.0.3-cp311-cp311-win_amd64.whl.metadata (18 kB)\n",
      "Requirement already satisfied: python-dateutil>=2.8.2 in c:\\users\\mlar5\\onedrive\\desktop\\code folder undergrad\\python projects\\irl projects\\kaggle\\insurance_regression\\venv\\lib\\site-packages (from pandas==2.0.3->-r requirements.txt (line 1)) (2.9.0.post0)\n",
      "Requirement already satisfied: pytz>=2020.1 in c:\\users\\mlar5\\onedrive\\desktop\\code folder undergrad\\python projects\\irl projects\\kaggle\\insurance_regression\\venv\\lib\\site-packages (from pandas==2.0.3->-r requirements.txt (line 1)) (2024.2)\n",
      "Requirement already satisfied: tzdata>=2022.1 in c:\\users\\mlar5\\onedrive\\desktop\\code folder undergrad\\python projects\\irl projects\\kaggle\\insurance_regression\\venv\\lib\\site-packages (from pandas==2.0.3->-r requirements.txt (line 1)) (2024.2)\n",
      "Requirement already satisfied: numpy>=1.21.0 in c:\\users\\mlar5\\onedrive\\desktop\\code folder undergrad\\python projects\\irl projects\\kaggle\\insurance_regression\\venv\\lib\\site-packages (from pandas==2.0.3->-r requirements.txt (line 1)) (2.2.0)\n",
      "Requirement already satisfied: six>=1.5 in c:\\users\\mlar5\\onedrive\\desktop\\code folder undergrad\\python projects\\irl projects\\kaggle\\insurance_regression\\venv\\lib\\site-packages (from python-dateutil>=2.8.2->pandas==2.0.3->-r requirements.txt (line 1)) (1.17.0)\n",
      "Downloading pandas-2.0.3-cp311-cp311-win_amd64.whl (10.6 MB)\n",
      "   ---------------------------------------- 0.0/10.6 MB ? eta -:--:--\n",
      "   ---------------------------------------- 0.0/10.6 MB ? eta -:--:--\n",
      "   ---------------------------------------- 0.1/10.6 MB 1.8 MB/s eta 0:00:06\n",
      "   -- ------------------------------------- 0.7/10.6 MB 6.3 MB/s eta 0:00:02\n",
      "   --------- ------------------------------ 2.5/10.6 MB 15.8 MB/s eta 0:00:01\n",
      "   ------------ --------------------------- 3.3/10.6 MB 19.1 MB/s eta 0:00:01\n",
      "   ----------------------- ---------------- 6.2/10.6 MB 24.7 MB/s eta 0:00:01\n",
      "   ------------------------ --------------- 6.6/10.6 MB 24.8 MB/s eta 0:00:01\n",
      "   ------------------------------------- -- 9.9/10.6 MB 28.7 MB/s eta 0:00:01\n",
      "   ---------------------------------------  10.6/10.6 MB 38.6 MB/s eta 0:00:01\n",
      "   ---------------------------------------- 10.6/10.6 MB 34.4 MB/s eta 0:00:00\n",
      "Installing collected packages: pandas\n",
      "  Attempting uninstall: pandas\n",
      "    Found existing installation: pandas 2.2.3\n",
      "    Uninstalling pandas-2.2.3:\n",
      "      Successfully uninstalled pandas-2.2.3\n",
      "Successfully installed pandas-2.0.3\n",
      "Note: you may need to restart the kernel to use updated packages.\n",
      "c:\\Users\\mlar5\\OneDrive\\Desktop\\Code Folder Undergrad\\Python Projects\\IRL projects\\Kaggle\\Insurance_Regression\\experimentation\n"
     ]
    },
    {
     "name": "stderr",
     "output_type": "stream",
     "text": [
      "\n",
      "[notice] A new release of pip is available: 23.2.1 -> 24.3.1\n",
      "[notice] To update, run: python.exe -m pip install --upgrade pip\n"
     ]
    }
   ],
   "source": [
    "%pip install -r ../requirements.txt"
   ]
  },
  {
   "cell_type": "markdown",
   "metadata": {},
   "source": [
    "# import/load data\n"
   ]
  },
  {
   "cell_type": "code",
   "execution_count": 1,
   "metadata": {},
   "outputs": [],
   "source": [
    "import pandas as pd"
   ]
  },
  {
   "cell_type": "code",
   "execution_count": 73,
   "metadata": {},
   "outputs": [],
   "source": [
    "train_df = pd.read_csv(\"../data/raw_dataset/train.csv\")"
   ]
  },
  {
   "cell_type": "markdown",
   "metadata": {},
   "source": [
    "# Save base dataset\n",
    "This serves as the main dataset used to build the future refined versions of our datasets. Below are the basic changes made:\n",
    "- drop id col\n",
    "- drop duplicates\n",
    "- convert `Policy Start Date` to `Policy Duration Mins`\n",
    "- convert string data to categorical type\n"
   ]
  },
  {
   "cell_type": "code",
   "execution_count": 74,
   "metadata": {},
   "outputs": [],
   "source": [
    "#remove id col and duplicates\n",
    "train_df = train_df.drop(columns=['id'])\n",
    "train_df=train_df.drop_duplicates()\n",
    "#convert start date to a timespan in mins\n",
    "train_df['Policy Start Date'] = pd.to_datetime(train_df['Policy Start Date'])\n",
    "train_df['Policy Duration Mins'] = ((pd.Timestamp.now() - train_df['Policy Start Date']).dt.total_seconds())/60\n",
    "train_df = train_df.drop(columns=['Policy Start Date'])\n",
    "# convert string cols to categorical for future encoding\n",
    "categorical_cols = [train_df.columns[i] for i, x in enumerate(train_df.dtypes) if x == 'object']\n",
    "# Create new columns as categorical and perform one-hot\n",
    "train_df[categorical_cols] = train_df[categorical_cols].astype('category')\n",
    "\n",
    "train_df.to_csv('../data/train_base.csv')"
   ]
  },
  {
   "cell_type": "markdown",
   "metadata": {},
   "source": [
    "# General data info\n",
    "\n",
    "This section contains insights with shape, null counts, data types"
   ]
  },
  {
   "cell_type": "markdown",
   "metadata": {},
   "source": [
    "I see many rows of data, which may make model training on full dataset time costly. Will likely want to work on a statistically proportional subset of the dataset for the first few iterations of training"
   ]
  },
  {
   "cell_type": "code",
   "execution_count": 5,
   "metadata": {},
   "outputs": [
    {
     "data": {
      "text/plain": [
       "(1200000, 21)"
      ]
     },
     "execution_count": 5,
     "metadata": {},
     "output_type": "execute_result"
    }
   ],
   "source": [
    "train_df.shape"
   ]
  },
  {
   "cell_type": "markdown",
   "metadata": {},
   "source": [
    "Here's the breakdown of datatypes:\n",
    "\n",
    "1 continuous feature (health score)\n",
    "\n",
    "9 discrete features (8 float types and 1 object -- technically start date is `object` but can be converted to int)\n",
    "\n",
    "10 categorical\n",
    "\n",
    "\n",
    "about half of the columns have empty missing data\n",
    "- this will be addressed on a row-by-row basis"
   ]
  },
  {
   "cell_type": "code",
   "execution_count": 16,
   "metadata": {},
   "outputs": [
    {
     "data": {
      "text/html": [
       "<div>\n",
       "<style scoped>\n",
       "    .dataframe tbody tr th:only-of-type {\n",
       "        vertical-align: middle;\n",
       "    }\n",
       "\n",
       "    .dataframe tbody tr th {\n",
       "        vertical-align: top;\n",
       "    }\n",
       "\n",
       "    .dataframe thead th {\n",
       "        text-align: right;\n",
       "    }\n",
       "</style>\n",
       "<table border=\"1\" class=\"dataframe\">\n",
       "  <thead>\n",
       "    <tr style=\"text-align: right;\">\n",
       "      <th></th>\n",
       "      <th>id</th>\n",
       "      <th>Age</th>\n",
       "      <th>Gender</th>\n",
       "      <th>Annual Income</th>\n",
       "      <th>Marital Status</th>\n",
       "      <th>Number of Dependents</th>\n",
       "      <th>Education Level</th>\n",
       "      <th>Occupation</th>\n",
       "      <th>Health Score</th>\n",
       "      <th>Location</th>\n",
       "      <th>Policy Type</th>\n",
       "      <th>Previous Claims</th>\n",
       "      <th>Vehicle Age</th>\n",
       "      <th>Credit Score</th>\n",
       "      <th>Insurance Duration</th>\n",
       "      <th>Policy Start Date</th>\n",
       "      <th>Customer Feedback</th>\n",
       "      <th>Smoking Status</th>\n",
       "      <th>Exercise Frequency</th>\n",
       "      <th>Property Type</th>\n",
       "      <th>Premium Amount</th>\n",
       "    </tr>\n",
       "  </thead>\n",
       "  <tbody>\n",
       "    <tr>\n",
       "      <th>0</th>\n",
       "      <td>0</td>\n",
       "      <td>19.0</td>\n",
       "      <td>Female</td>\n",
       "      <td>10049.0</td>\n",
       "      <td>Married</td>\n",
       "      <td>1.0</td>\n",
       "      <td>Bachelor's</td>\n",
       "      <td>Self-Employed</td>\n",
       "      <td>22.598761</td>\n",
       "      <td>Urban</td>\n",
       "      <td>Premium</td>\n",
       "      <td>2.0</td>\n",
       "      <td>17.0</td>\n",
       "      <td>372.0</td>\n",
       "      <td>5.0</td>\n",
       "      <td>2023-12-23 15:21:39.134960</td>\n",
       "      <td>Poor</td>\n",
       "      <td>No</td>\n",
       "      <td>Weekly</td>\n",
       "      <td>House</td>\n",
       "      <td>2869.0</td>\n",
       "    </tr>\n",
       "  </tbody>\n",
       "</table>\n",
       "</div>"
      ],
      "text/plain": [
       "   id   Age  Gender  Annual Income Marital Status  Number of Dependents  \\\n",
       "0   0  19.0  Female        10049.0        Married                   1.0   \n",
       "\n",
       "  Education Level     Occupation  Health Score Location Policy Type  \\\n",
       "0      Bachelor's  Self-Employed     22.598761    Urban     Premium   \n",
       "\n",
       "   Previous Claims  Vehicle Age  Credit Score  Insurance Duration  \\\n",
       "0              2.0         17.0         372.0                 5.0   \n",
       "\n",
       "            Policy Start Date Customer Feedback Smoking Status  \\\n",
       "0  2023-12-23 15:21:39.134960              Poor             No   \n",
       "\n",
       "  Exercise Frequency Property Type  Premium Amount  \n",
       "0             Weekly         House          2869.0  "
      ]
     },
     "execution_count": 16,
     "metadata": {},
     "output_type": "execute_result"
    }
   ],
   "source": [
    "train_df.head(1)"
   ]
  },
  {
   "cell_type": "code",
   "execution_count": 27,
   "metadata": {},
   "outputs": [
    {
     "name": "stdout",
     "output_type": "stream",
     "text": [
      "<class 'pandas.core.frame.DataFrame'>\n",
      "RangeIndex: 1200000 entries, 0 to 1199999\n",
      "Data columns (total 20 columns):\n",
      " #   Column                Non-Null Count    Dtype  \n",
      "---  ------                --------------    -----  \n",
      " 0   Age                   1181295 non-null  float64\n",
      " 1   Gender                1200000 non-null  object \n",
      " 2   Annual Income         1155051 non-null  float64\n",
      " 3   Marital Status        1181471 non-null  object \n",
      " 4   Number of Dependents  1090328 non-null  float64\n",
      " 5   Education Level       1200000 non-null  object \n",
      " 6   Occupation            841925 non-null   object \n",
      " 7   Health Score          1125924 non-null  float64\n",
      " 8   Location              1200000 non-null  object \n",
      " 9   Policy Type           1200000 non-null  object \n",
      " 10  Previous Claims       835971 non-null   float64\n",
      " 11  Vehicle Age           1199994 non-null  float64\n",
      " 12  Credit Score          1062118 non-null  float64\n",
      " 13  Insurance Duration    1199999 non-null  float64\n",
      " 14  Policy Start Date     1200000 non-null  object \n",
      " 15  Customer Feedback     1122176 non-null  object \n",
      " 16  Smoking Status        1200000 non-null  object \n",
      " 17  Exercise Frequency    1200000 non-null  object \n",
      " 18  Property Type         1200000 non-null  object \n",
      " 19  Premium Amount        1200000 non-null  float64\n",
      "dtypes: float64(9), object(11)\n",
      "memory usage: 183.1+ MB\n"
     ]
    }
   ],
   "source": [
    "train_df.info()"
   ]
  },
  {
   "cell_type": "code",
   "execution_count": 28,
   "metadata": {},
   "outputs": [
    {
     "data": {
      "text/html": [
       "<div>\n",
       "<style scoped>\n",
       "    .dataframe tbody tr th:only-of-type {\n",
       "        vertical-align: middle;\n",
       "    }\n",
       "\n",
       "    .dataframe tbody tr th {\n",
       "        vertical-align: top;\n",
       "    }\n",
       "\n",
       "    .dataframe thead th {\n",
       "        text-align: right;\n",
       "    }\n",
       "</style>\n",
       "<table border=\"1\" class=\"dataframe\">\n",
       "  <thead>\n",
       "    <tr style=\"text-align: right;\">\n",
       "      <th></th>\n",
       "      <th>Age</th>\n",
       "      <th>Annual Income</th>\n",
       "      <th>Number of Dependents</th>\n",
       "      <th>Health Score</th>\n",
       "      <th>Previous Claims</th>\n",
       "      <th>Vehicle Age</th>\n",
       "      <th>Credit Score</th>\n",
       "      <th>Insurance Duration</th>\n",
       "      <th>Premium Amount</th>\n",
       "    </tr>\n",
       "  </thead>\n",
       "  <tbody>\n",
       "    <tr>\n",
       "      <th>count</th>\n",
       "      <td>1.181295e+06</td>\n",
       "      <td>1.155051e+06</td>\n",
       "      <td>1.090328e+06</td>\n",
       "      <td>1.125924e+06</td>\n",
       "      <td>835971.000000</td>\n",
       "      <td>1.199994e+06</td>\n",
       "      <td>1.062118e+06</td>\n",
       "      <td>1.199999e+06</td>\n",
       "      <td>1.200000e+06</td>\n",
       "    </tr>\n",
       "    <tr>\n",
       "      <th>mean</th>\n",
       "      <td>4.114556e+01</td>\n",
       "      <td>3.274522e+04</td>\n",
       "      <td>2.009934e+00</td>\n",
       "      <td>2.561391e+01</td>\n",
       "      <td>1.002689</td>\n",
       "      <td>9.569889e+00</td>\n",
       "      <td>5.929244e+02</td>\n",
       "      <td>5.018219e+00</td>\n",
       "      <td>1.102545e+03</td>\n",
       "    </tr>\n",
       "    <tr>\n",
       "      <th>std</th>\n",
       "      <td>1.353995e+01</td>\n",
       "      <td>3.217951e+04</td>\n",
       "      <td>1.417338e+00</td>\n",
       "      <td>1.220346e+01</td>\n",
       "      <td>0.982840</td>\n",
       "      <td>5.776189e+00</td>\n",
       "      <td>1.499819e+02</td>\n",
       "      <td>2.594331e+00</td>\n",
       "      <td>8.649989e+02</td>\n",
       "    </tr>\n",
       "    <tr>\n",
       "      <th>min</th>\n",
       "      <td>1.800000e+01</td>\n",
       "      <td>1.000000e+00</td>\n",
       "      <td>0.000000e+00</td>\n",
       "      <td>2.012237e+00</td>\n",
       "      <td>0.000000</td>\n",
       "      <td>0.000000e+00</td>\n",
       "      <td>3.000000e+02</td>\n",
       "      <td>1.000000e+00</td>\n",
       "      <td>2.000000e+01</td>\n",
       "    </tr>\n",
       "    <tr>\n",
       "      <th>25%</th>\n",
       "      <td>3.000000e+01</td>\n",
       "      <td>8.001000e+03</td>\n",
       "      <td>1.000000e+00</td>\n",
       "      <td>1.591896e+01</td>\n",
       "      <td>0.000000</td>\n",
       "      <td>5.000000e+00</td>\n",
       "      <td>4.680000e+02</td>\n",
       "      <td>3.000000e+00</td>\n",
       "      <td>5.140000e+02</td>\n",
       "    </tr>\n",
       "    <tr>\n",
       "      <th>50%</th>\n",
       "      <td>4.100000e+01</td>\n",
       "      <td>2.391100e+04</td>\n",
       "      <td>2.000000e+00</td>\n",
       "      <td>2.457865e+01</td>\n",
       "      <td>1.000000</td>\n",
       "      <td>1.000000e+01</td>\n",
       "      <td>5.950000e+02</td>\n",
       "      <td>5.000000e+00</td>\n",
       "      <td>8.720000e+02</td>\n",
       "    </tr>\n",
       "    <tr>\n",
       "      <th>75%</th>\n",
       "      <td>5.300000e+01</td>\n",
       "      <td>4.463400e+04</td>\n",
       "      <td>3.000000e+00</td>\n",
       "      <td>3.452721e+01</td>\n",
       "      <td>2.000000</td>\n",
       "      <td>1.500000e+01</td>\n",
       "      <td>7.210000e+02</td>\n",
       "      <td>7.000000e+00</td>\n",
       "      <td>1.509000e+03</td>\n",
       "    </tr>\n",
       "    <tr>\n",
       "      <th>max</th>\n",
       "      <td>6.400000e+01</td>\n",
       "      <td>1.499970e+05</td>\n",
       "      <td>4.000000e+00</td>\n",
       "      <td>5.897591e+01</td>\n",
       "      <td>9.000000</td>\n",
       "      <td>1.900000e+01</td>\n",
       "      <td>8.490000e+02</td>\n",
       "      <td>9.000000e+00</td>\n",
       "      <td>4.999000e+03</td>\n",
       "    </tr>\n",
       "  </tbody>\n",
       "</table>\n",
       "</div>"
      ],
      "text/plain": [
       "                Age  Annual Income  Number of Dependents  Health Score  \\\n",
       "count  1.181295e+06   1.155051e+06          1.090328e+06  1.125924e+06   \n",
       "mean   4.114556e+01   3.274522e+04          2.009934e+00  2.561391e+01   \n",
       "std    1.353995e+01   3.217951e+04          1.417338e+00  1.220346e+01   \n",
       "min    1.800000e+01   1.000000e+00          0.000000e+00  2.012237e+00   \n",
       "25%    3.000000e+01   8.001000e+03          1.000000e+00  1.591896e+01   \n",
       "50%    4.100000e+01   2.391100e+04          2.000000e+00  2.457865e+01   \n",
       "75%    5.300000e+01   4.463400e+04          3.000000e+00  3.452721e+01   \n",
       "max    6.400000e+01   1.499970e+05          4.000000e+00  5.897591e+01   \n",
       "\n",
       "       Previous Claims   Vehicle Age  Credit Score  Insurance Duration  \\\n",
       "count    835971.000000  1.199994e+06  1.062118e+06        1.199999e+06   \n",
       "mean          1.002689  9.569889e+00  5.929244e+02        5.018219e+00   \n",
       "std           0.982840  5.776189e+00  1.499819e+02        2.594331e+00   \n",
       "min           0.000000  0.000000e+00  3.000000e+02        1.000000e+00   \n",
       "25%           0.000000  5.000000e+00  4.680000e+02        3.000000e+00   \n",
       "50%           1.000000  1.000000e+01  5.950000e+02        5.000000e+00   \n",
       "75%           2.000000  1.500000e+01  7.210000e+02        7.000000e+00   \n",
       "max           9.000000  1.900000e+01  8.490000e+02        9.000000e+00   \n",
       "\n",
       "       Premium Amount  \n",
       "count    1.200000e+06  \n",
       "mean     1.102545e+03  \n",
       "std      8.649989e+02  \n",
       "min      2.000000e+01  \n",
       "25%      5.140000e+02  \n",
       "50%      8.720000e+02  \n",
       "75%      1.509000e+03  \n",
       "max      4.999000e+03  "
      ]
     },
     "execution_count": 28,
     "metadata": {},
     "output_type": "execute_result"
    }
   ],
   "source": [
    "train_df.describe()"
   ]
  },
  {
   "cell_type": "code",
   "execution_count": 7,
   "metadata": {},
   "outputs": [
    {
     "data": {
      "text/plain": [
       "Age                      18705\n",
       "Gender                       0\n",
       "Annual Income            44949\n",
       "Marital Status           18529\n",
       "Number of Dependents    109672\n",
       "Education Level              0\n",
       "Occupation              358075\n",
       "Health Score             74076\n",
       "Location                     0\n",
       "Policy Type                  0\n",
       "Previous Claims         364029\n",
       "Vehicle Age                  6\n",
       "Credit Score            137882\n",
       "Insurance Duration           1\n",
       "Policy Start Date            0\n",
       "Customer Feedback        77824\n",
       "Smoking Status               0\n",
       "Exercise Frequency           0\n",
       "Property Type                0\n",
       "Premium Amount               0\n",
       "dtype: int64"
      ]
     },
     "execution_count": 7,
     "metadata": {},
     "output_type": "execute_result"
    }
   ],
   "source": [
    "train_df.isnull().sum()"
   ]
  },
  {
   "cell_type": "markdown",
   "metadata": {},
   "source": [
    "# Plan of attack\n",
    "\n",
    "0. save the slightly altered dataset (`base_train.csv`)\n",
    "\n",
    "###  Baseline model-based approach\n",
    "1. make a baseline dataset (no processing)\n",
    "    1. remove rows with nulls    \n",
    "2. Use a few baseline models (no hyperparam tuning)\n",
    "    1. Linear Regression\n",
    "    2. Random Forest\n",
    "    3. SVM\n",
    "3. Compare against best heuristic approach (always predict median insurance value)\n"
   ]
  }
 ],
 "metadata": {
  "kernelspec": {
   "display_name": ".venv",
   "language": "python",
   "name": "python3"
  },
  "language_info": {
   "codemirror_mode": {
    "name": "ipython",
    "version": 3
   },
   "file_extension": ".py",
   "mimetype": "text/x-python",
   "name": "python",
   "nbconvert_exporter": "python",
   "pygments_lexer": "ipython3",
   "version": "3.11.5"
  }
 },
 "nbformat": 4,
 "nbformat_minor": 2
}
