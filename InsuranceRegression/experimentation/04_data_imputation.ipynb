{
 "cells": [
  {
   "cell_type": "markdown",
   "metadata": {},
   "source": [
    "# Data imputation\n",
    "\n",
    "Purpose:\n",
    "The goal of the Notebook is to handle any nulls in the columns before preprocessing"
   ]
  },
  {
   "cell_type": "code",
   "execution_count": 4,
   "metadata": {},
   "outputs": [],
   "source": [
    "base_dataset = pd.read_csv('../data/train_base.csv')"
   ]
  },
  {
   "cell_type": "code",
   "execution_count": 13,
   "metadata": {},
   "outputs": [
    {
     "data": {
      "text/html": [
       "<div>\n",
       "<style scoped>\n",
       "    .dataframe tbody tr th:only-of-type {\n",
       "        vertical-align: middle;\n",
       "    }\n",
       "\n",
       "    .dataframe tbody tr th {\n",
       "        vertical-align: top;\n",
       "    }\n",
       "\n",
       "    .dataframe thead th {\n",
       "        text-align: right;\n",
       "    }\n",
       "</style>\n",
       "<table border=\"1\" class=\"dataframe\">\n",
       "  <thead>\n",
       "    <tr style=\"text-align: right;\">\n",
       "      <th></th>\n",
       "      <th>Age</th>\n",
       "      <th>Annual Income</th>\n",
       "      <th>Number of Dependents</th>\n",
       "      <th>Health Score</th>\n",
       "      <th>Previous Claims</th>\n",
       "      <th>Vehicle Age</th>\n",
       "      <th>Credit Score</th>\n",
       "      <th>Insurance Duration</th>\n",
       "      <th>Premium Amount</th>\n",
       "      <th>Policy Duration Mins</th>\n",
       "      <th>Gender_Male</th>\n",
       "      <th>Marital Status_Married</th>\n",
       "      <th>Marital Status_Single</th>\n",
       "      <th>Education Level_High School</th>\n",
       "      <th>Education Level_Master's</th>\n",
       "      <th>Education Level_PhD</th>\n",
       "      <th>Occupation_Self-Employed</th>\n",
       "      <th>Occupation_Unemployed</th>\n",
       "      <th>Location_Suburban</th>\n",
       "      <th>Location_Urban</th>\n",
       "      <th>Policy Type_Comprehensive</th>\n",
       "      <th>Policy Type_Premium</th>\n",
       "      <th>Customer Feedback_Good</th>\n",
       "      <th>Customer Feedback_Poor</th>\n",
       "      <th>Smoking Status_Yes</th>\n",
       "      <th>Exercise Frequency_Monthly</th>\n",
       "      <th>Exercise Frequency_Rarely</th>\n",
       "      <th>Exercise Frequency_Weekly</th>\n",
       "      <th>Property Type_Condo</th>\n",
       "      <th>Property Type_House</th>\n",
       "    </tr>\n",
       "  </thead>\n",
       "  <tbody>\n",
       "    <tr>\n",
       "      <th>0</th>\n",
       "      <td>19.0</td>\n",
       "      <td>10049.0</td>\n",
       "      <td>1.0</td>\n",
       "      <td>22.598761</td>\n",
       "      <td>2.0</td>\n",
       "      <td>17.0</td>\n",
       "      <td>372.0</td>\n",
       "      <td>5.0</td>\n",
       "      <td>2869.0</td>\n",
       "      <td>518866.882265</td>\n",
       "      <td>False</td>\n",
       "      <td>True</td>\n",
       "      <td>False</td>\n",
       "      <td>False</td>\n",
       "      <td>False</td>\n",
       "      <td>False</td>\n",
       "      <td>True</td>\n",
       "      <td>False</td>\n",
       "      <td>False</td>\n",
       "      <td>True</td>\n",
       "      <td>False</td>\n",
       "      <td>True</td>\n",
       "      <td>False</td>\n",
       "      <td>True</td>\n",
       "      <td>False</td>\n",
       "      <td>False</td>\n",
       "      <td>False</td>\n",
       "      <td>True</td>\n",
       "      <td>False</td>\n",
       "      <td>True</td>\n",
       "    </tr>\n",
       "  </tbody>\n",
       "</table>\n",
       "</div>"
      ],
      "text/plain": [
       "    Age  Annual Income  Number of Dependents  Health Score  Previous Claims  \\\n",
       "0  19.0        10049.0                   1.0     22.598761              2.0   \n",
       "\n",
       "   Vehicle Age  Credit Score  Insurance Duration  Premium Amount  \\\n",
       "0         17.0         372.0                 5.0          2869.0   \n",
       "\n",
       "   Policy Duration Mins  Gender_Male  Marital Status_Married  \\\n",
       "0         518866.882265        False                    True   \n",
       "\n",
       "   Marital Status_Single  Education Level_High School  \\\n",
       "0                  False                        False   \n",
       "\n",
       "   Education Level_Master's  Education Level_PhD  Occupation_Self-Employed  \\\n",
       "0                     False                False                      True   \n",
       "\n",
       "   Occupation_Unemployed  Location_Suburban  Location_Urban  \\\n",
       "0                  False              False            True   \n",
       "\n",
       "   Policy Type_Comprehensive  Policy Type_Premium  Customer Feedback_Good  \\\n",
       "0                      False                 True                   False   \n",
       "\n",
       "   Customer Feedback_Poor  Smoking Status_Yes  Exercise Frequency_Monthly  \\\n",
       "0                    True               False                       False   \n",
       "\n",
       "   Exercise Frequency_Rarely  Exercise Frequency_Weekly  Property Type_Condo  \\\n",
       "0                      False                       True                False   \n",
       "\n",
       "   Property Type_House  \n",
       "0                 True  "
      ]
     },
     "execution_count": 13,
     "metadata": {},
     "output_type": "execute_result"
    }
   ],
   "source": [
    "#since we found one-hot encoding better than label encoding, we'll apply that first\n",
    "# convert string cols to categorical\n",
    "categorical_cols = [base_dataset.columns[i] for i, x in enumerate(base_dataset.dtypes) if x == 'object']\n",
    "base_dataset[categorical_cols] = base_dataset[categorical_cols].astype('category')\n",
    "\n",
    "## convert categorical to one hot encodings\n",
    "base_dataset = pd.get_dummies(base_dataset, drop_first=True)\n",
    "base_dataset.head(1)"
   ]
  },
  {
   "cell_type": "markdown",
   "metadata": {},
   "source": [
    "# Median based imputations"
   ]
  },
  {
   "cell_type": "code",
   "execution_count": 26,
   "metadata": {},
   "outputs": [],
   "source": [
    "base_dataset_path = \"../data/\"\n",
    "dataset_version = \"03_\"\n",
    "y_col = \"Premium Amount\""
   ]
  },
  {
   "cell_type": "markdown",
   "metadata": {},
   "source": [
    "## 1. simple median imputation"
   ]
  },
  {
   "cell_type": "code",
   "execution_count": 20,
   "metadata": {},
   "outputs": [],
   "source": [
    "simple_median_dataset = base_dataset.copy()\n",
    "\n",
    "simple_median_dataset = simple_median_dataset.fillna(simple_median_dataset.median())\n",
    "\n",
    "file_name = dataset_version+ \"imputation_median.csv\"\n",
    "save_path = os.path.join(base_dataset_path,file_name)\n",
    "\n",
    "simple_median_dataset.to_csv(save_path,index=False)\n"
   ]
  },
  {
   "cell_type": "markdown",
   "metadata": {},
   "source": [
    "## 2. median imputation (after clipping)\n",
    "\n",
    "For now we'll use quantile clipping instead of z-score since some colmns are skewed"
   ]
  },
  {
   "cell_type": "code",
   "execution_count": 28,
   "metadata": {},
   "outputs": [],
   "source": [
    "clipped_median_dataset = base_dataset.copy()\n",
    "\n",
    "\n",
    "# Apply clipping column-wise\n",
    "for column in clipped_median_dataset.columns:\n",
    "    if clipped_median_dataset[column].dtype in ['float64', 'int64'] and column != y_col:  # Only process numeric columns\n",
    "        lower = clipped_median_dataset[column].quantile(0.01)\n",
    "        upper = clipped_median_dataset[column].quantile(0.99)\n",
    "        clipped_median_dataset[column] = clipped_median_dataset[column].clip(lower, upper)\n",
    "\n",
    "file_name = dataset_version+ \"imputation_clipped_median.csv\"\n",
    "save_path = os.path.join(base_dataset_path,file_name)\n",
    "\n",
    "clipped_median_dataset.to_csv(save_path,index=False)"
   ]
  },
  {
   "cell_type": "markdown",
   "metadata": {},
   "source": [
    "## 3. median imputation (cleared outliers + grouping-derived medians)"
   ]
  }
 ],
 "metadata": {
  "kernelspec": {
   "display_name": ".venv",
   "language": "python",
   "name": "python3"
  },
  "language_info": {
   "codemirror_mode": {
    "name": "ipython",
    "version": 3
   },
   "file_extension": ".py",
   "mimetype": "text/x-python",
   "name": "python",
   "nbconvert_exporter": "python",
   "pygments_lexer": "ipython3",
   "version": "3.11.5"
  }
 },
 "nbformat": 4,
 "nbformat_minor": 2
}
