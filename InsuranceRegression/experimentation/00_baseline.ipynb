{
 "cells": [
  {
   "cell_type": "markdown",
   "metadata": {},
   "source": [
    "# General Baseline\n",
    "\n",
    "Purpose: We want to obtain the simplest baseline possible. In this case, something like always returning the average of all Y values or something with using a single column may be close to a decent score and may be all that is needed in the business world\n",
    "\n",
    "Result:\n",
    "Using the median value on the raw dataset places me in about the top 55% of the competition with RMSE of 1.108!"
   ]
  },
  {
   "cell_type": "code",
   "execution_count": 1,
   "metadata": {},
   "outputs": [
    {
     "name": "stdout",
     "output_type": "stream",
     "text": [
      "^C\n",
      "Note: you may need to restart the kernel to use updated packages.\n"
     ]
    },
    {
     "name": "stderr",
     "output_type": "stream",
     "text": [
      "ERROR: Could not open requirements file: [Errno 2] No such file or directory: '../../requirements.txt'\n"
     ]
    }
   ],
   "source": [
    "%pip install -r ../../requirements.txt"
   ]
  },
  {
   "cell_type": "code",
   "execution_count": 1,
   "metadata": {},
   "outputs": [],
   "source": [
    "import pandas as pd\n",
    "import os\n",
    "import kaggle\n",
    "import sys\n",
    "# Add the utilities directory to the Python path\n",
    "utilities_path = os.path.abspath(os.path.join(\"..\", \"..\",))\n",
    "sys.path.append(utilities_path)\n",
    "from utilities.kaggle_utils import *"
   ]
  },
  {
   "cell_type": "code",
   "execution_count": 2,
   "metadata": {},
   "outputs": [],
   "source": [
    "#load data\n",
    "train_df = pd.read_csv('../data/train.csv')\n",
    "test_df = pd.read_csv('../data/test.csv')\n",
    "\n",
    "#get the mean and median\n",
    "y_col = 'Premium Amount'\n",
    "median = train_df[y_col].median()\n",
    "mean = train_df[y_col].mean()"
   ]
  },
  {
   "cell_type": "code",
   "execution_count": 10,
   "metadata": {},
   "outputs": [],
   "source": [
    "# get the needed ids and insert the mean and median\n",
    "base_results = test_df[['id']]\n",
    "mean_results = base_results.copy()\n",
    "median_results = base_results.copy()\n",
    "\n",
    "mean_results[y_col]=mean\n",
    "median_results[y_col]=median\n",
    "\n",
    "result_pth = '../results/'\n",
    "result_pth_mean = os.path.join(result_pth,'mean_results.csv')\n",
    "result_pth_median = os.path.join(result_pth,'median_results.csv')\n",
    "mean_results.to_csv(result_pth_mean,index=False)\n",
    "median_results.to_csv(result_pth_median, index=False)"
   ]
  },
  {
   "cell_type": "code",
   "execution_count": 2,
   "metadata": {},
   "outputs": [
    {
     "name": "stdout",
     "output_type": "stream",
     "text": [
      "Current working directory: c:\\Users\\mlar5\\OneDrive\\Desktop\\Code Folder Undergrad\\Python Projects\\IRL projects\\Kaggle\\InsuranceRegression\\experimentation\n",
      "Resolved YAML file path: c:\\Users\\mlar5\\OneDrive\\Desktop\\Code Folder Undergrad\\Python Projects\\IRL projects\\Kaggle\\config\\comp_cfg.yaml\n",
      "Current working directory: c:\\Users\\mlar5\\OneDrive\\Desktop\\Code Folder Undergrad\\Python Projects\\IRL projects\\Kaggle\\InsuranceRegression\\experimentation\n",
      "Resolved submission file path: ../results\\median_results.csv\n",
      "Competition Name: playground-series-s4e12\n",
      "Full Submission File Path: ../results\\median_results.csv\n"
     ]
    },
    {
     "name": "stderr",
     "output_type": "stream",
     "text": [
      "100%|██████████| 11.4M/11.4M [00:02<00:00, 5.88MB/s]\n"
     ]
    },
    {
     "name": "stdout",
     "output_type": "stream",
     "text": [
      "Submission to 'playground-series-s4e12' successful!\n"
     ]
    }
   ],
   "source": [
    "submit(\"median_results.csv\", \"base submission - median\")"
   ]
  },
  {
   "cell_type": "code",
   "execution_count": 3,
   "metadata": {},
   "outputs": [
    {
     "name": "stdout",
     "output_type": "stream",
     "text": [
      "Current working directory: c:\\Users\\mlar5\\OneDrive\\Desktop\\Code Folder Undergrad\\Python Projects\\IRL projects\\Kaggle\\InsuranceRegression\\experimentation\n",
      "Resolved YAML file path: c:\\Users\\mlar5\\OneDrive\\Desktop\\Code Folder Undergrad\\Python Projects\\IRL projects\\Kaggle\\config\\comp_cfg.yaml\n",
      "Current working directory: c:\\Users\\mlar5\\OneDrive\\Desktop\\Code Folder Undergrad\\Python Projects\\IRL projects\\Kaggle\\InsuranceRegression\\experimentation\n",
      "Resolved submission file path: ../results\\mean_results.csv\n",
      "Competition Name: playground-series-s4e12\n",
      "Full Submission File Path: ../results\\mean_results.csv\n"
     ]
    },
    {
     "name": "stderr",
     "output_type": "stream",
     "text": [
      "100%|██████████| 21.4M/21.4M [00:03<00:00, 6.44MB/s]\n"
     ]
    },
    {
     "name": "stdout",
     "output_type": "stream",
     "text": [
      "Submission to 'playground-series-s4e12' successful!\n"
     ]
    }
   ],
   "source": [
    "submit(\"mean_results.csv\", 'base submission - mean')"
   ]
  }
 ],
 "metadata": {
  "kernelspec": {
   "display_name": ".venv",
   "language": "python",
   "name": "python3"
  },
  "language_info": {
   "codemirror_mode": {
    "name": "ipython",
    "version": 3
   },
   "file_extension": ".py",
   "mimetype": "text/x-python",
   "name": "python",
   "nbconvert_exporter": "python",
   "pygments_lexer": "ipython3",
   "version": "3.11.5"
  }
 },
 "nbformat": 4,
 "nbformat_minor": 2
}
