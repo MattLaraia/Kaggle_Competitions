{
 "cells": [
  {
   "cell_type": "markdown",
   "metadata": {},
   "source": [
    "# Random forest baseline\n",
    "\n",
    "Now that we have identified basic things about what works best for the dataset listed below, we will now train a single random forest on 1/10th of the stratified dataset to compare performance\n",
    "\n",
    "### Key findings so far:\n",
    "\n",
    "- **imputation**: clipping and filling nulls with mean  \n",
    "- **encoding**: one-hot encoding\n",
    "- **validation scores**: more reliable after performing stratified split\n",
    "- **baseline**: logistic regression is best baseline model\n",
    "- **heuristic baseline**: median value is **BEST SCORE SO FAR!**"
   ]
  },
  {
   "cell_type": "code",
   "execution_count": 2,
   "metadata": {},
   "outputs": [],
   "source": [
    "train_dataset = pd.read_csv(\"../data/03_imputation_clipped_mean.csv\")"
   ]
  },
  {
   "cell_type": "code",
   "execution_count": 3,
   "metadata": {},
   "outputs": [],
   "source": [
    "from sklearn.model_selection import train_test_split\n",
    "from sklearn.metrics import mean_squared_error, mean_absolute_error, r2_score\n",
    "from sklearn.ensemble import RandomForestRegressor\n",
    "\n",
    "\n",
    "\n",
    "# Explicitly define the target column\n",
    "target_column = 'Premium Amount'\n",
    "\n",
    "test_data = pd.read_csv(\"../data/raw_dataset/test.csv\")"
   ]
  },
  {
   "cell_type": "code",
   "execution_count": null,
   "metadata": {},
   "outputs": [
    {
     "name": "stdout",
     "output_type": "stream",
     "text": [
      "begin Random Forest training\n"
     ]
    }
   ],
   "source": [
    "# Separate features (X) and target (y)\n",
    "X = train_dataset.drop(columns=[target_column])\n",
    "y = train_dataset[target_column]\n",
    "\n",
    "# Bin the target variable\n",
    "n_bins = 20\n",
    "bin_col = \"y_bin\"\n",
    "y_binned = pd.qcut(y, q=n_bins, duplicates='drop', labels=False)\n",
    "X[bin_col] = y_binned\n",
    "\n",
    "# Train-test split\n",
    "X_train, X_test, y_train, y_test = train_test_split(X, y, train_size=0.1, random_state=42, stratify= X[\"y_bin\"])\n",
    "\n",
    "#remove the stratification column\n",
    "X_test = X_test.drop(columns=[bin_col])\n",
    "X_train = X_train.drop(columns=[bin_col])\n",
    "\n",
    "# Define advanced baseline stratified_models\n",
    "stratified_models = {\n",
    "    \"Random Forest\": RandomForestRegressor(random_state=42)\n",
    "}\n",
    "\n",
    "# Train and evaluate each model\n",
    "stratified_results = []\n",
    "\n",
    "for name, model in stratified_models.items():\n",
    "    print(f\"begin {name} training\")\n",
    "    # Train the model\n",
    "    model.fit(X_train, y_train)\n",
    "    print(\"training complete!\")\n",
    "    # Make predictions\n",
    "    y_pred = model.predict(X_test)\n",
    "    print(\"predictions complete!\")\n",
    "    \n",
    "    # Evaluate performance\n",
    "    mse = mean_squared_error(y_test, y_pred)\n",
    "    mae = mean_absolute_error(y_test, y_pred)\n",
    "    r2 = r2_score(y_test, y_pred)\n",
    "    \n",
    "    # Store stratified_results\n",
    "    stratified_results.append({\n",
    "        \"Model\": name,\n",
    "        \"MSE\": mse,\n",
    "        \"MAE\": mae,\n",
    "        \"R^2\": r2\n",
    "    })\n",
    "    print(f\"{name} training complete\")\n",
    "\n",
    "\n",
    "# Display stratified_results\n",
    "stratified_results_df = pd.DataFrame(stratified_results).sort_values(by=\"R^2\", ascending=False)\n",
    "stratified_results_df"
   ]
  }
 ],
 "metadata": {
  "kernelspec": {
   "display_name": ".venv",
   "language": "python",
   "name": "python3"
  },
  "language_info": {
   "codemirror_mode": {
    "name": "ipython",
    "version": 3
   },
   "file_extension": ".py",
   "mimetype": "text/x-python",
   "name": "python",
   "nbconvert_exporter": "python",
   "pygments_lexer": "ipython3",
   "version": "3.11.5"
  }
 },
 "nbformat": 4,
 "nbformat_minor": 2
}
